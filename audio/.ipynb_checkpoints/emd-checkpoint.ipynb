{
 "cells": [
  {
   "cell_type": "markdown",
   "metadata": {},
   "source": [
    "# EMD"
   ]
  },
  {
   "cell_type": "code",
   "execution_count": 61,
   "metadata": {},
   "outputs": [],
   "source": [
    "from PyEMD import EMD\n",
    "from matplotlib import pyplot as plt\n",
    "import numpy as np\n",
    "import os\n",
    "import pickle"
   ]
  },
  {
   "cell_type": "code",
   "execution_count": 68,
   "metadata": {},
   "outputs": [],
   "source": [
    "path = '/home/gangmin/바탕화면/capstone/audio/wav_split_800'\n",
    "file_list = os.listdir(path)"
   ]
  },
  {
   "cell_type": "code",
   "execution_count": 73,
   "metadata": {
    "scrolled": false
   },
   "outputs": [],
   "source": [
    "for file in file_list:\n",
    "    \n",
    "    emd_arr = []\n",
    "    \n",
    "    with open(path+'/'+file,'rb') as f:\n",
    "        data = pickle.load(f)\n",
    "        emd = EMD()\n",
    "        \n",
    "        #shot 크기\n",
    "        temp = 0\n",
    "        for j in range(0,len(data),4000):\n",
    "            if j !=0:\n",
    "                #print(temp,j)\n",
    "                IMFs_first = emd(data[temp:j])[0]\n",
    "                #print(IMFs_first)\n",
    "                temp = j\n",
    "                \n",
    "                emd_arr.append(IMFs_first)\n",
    "                \n",
    "                #visualization\n",
    "        if len(data[j:len(data)]) >= 800:\n",
    "            IMFs_first = emd(data[j:len(data)])[0]\n",
    "            emd_arr.append(IMFs_first)\n",
    "        \n",
    "        with open('/home/gangmin/바탕화면/capstone/audio/emd'+'/'+file,'wb') as fw:\n",
    "            pickle.dump(emd_arr,fw)\n",
    "        "
   ]
  },
  {
   "cell_type": "code",
   "execution_count": null,
   "metadata": {},
   "outputs": [],
   "source": []
  }
 ],
 "metadata": {
  "kernelspec": {
   "display_name": "Python 3",
   "language": "python",
   "name": "python3"
  },
  "language_info": {
   "codemirror_mode": {
    "name": "ipython",
    "version": 3
   },
   "file_extension": ".py",
   "mimetype": "text/x-python",
   "name": "python",
   "nbconvert_exporter": "python",
   "pygments_lexer": "ipython3",
   "version": "3.6.9"
  }
 },
 "nbformat": 4,
 "nbformat_minor": 4
}
