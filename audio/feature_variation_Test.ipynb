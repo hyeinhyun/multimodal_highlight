{
 "cells": [
  {
   "cell_type": "code",
   "execution_count": 18,
   "metadata": {},
   "outputs": [],
   "source": [
    "from matplotlib import pyplot as plt\n",
    "import numpy as np\n",
    "import os\n",
    "import pickle"
   ]
  },
  {
   "cell_type": "code",
   "execution_count": 19,
   "metadata": {},
   "outputs": [],
   "source": [
    "path = '/home/ubuntu/gangmin/emd'\n",
    "file_list = os.listdir(path)"
   ]
  },
  {
   "cell_type": "code",
   "execution_count": 91,
   "metadata": {},
   "outputs": [],
   "source": [
    "#parameter setting\n",
    "#초당 800sample\n",
    "#초당 frame\n",
    "frame = 40\n",
    "samples = int(800/frame)\n",
    "top_percent = 15\n",
    "\n"
   ]
  },
  {
   "cell_type": "code",
   "execution_count": 92,
   "metadata": {},
   "outputs": [],
   "source": [
    "features_1 ={}"
   ]
  },
  {
   "cell_type": "code",
   "execution_count": 93,
   "metadata": {},
   "outputs": [],
   "source": [
    "#800sampel 1 shot에 80sample 10frame들어가서 측정, 즉 초*10frame energy생성후 상위 15% 추출해서 아 frame이 속하는 shot 모두 선택\n",
    "for file in file_list:\n",
    "    data=[]\n",
    "    with open(path+'/'+file,'rb') as f:\n",
    "        shots = pickle.load(f)\n",
    "        energy = []\n",
    "        for shot in shots:\n",
    "            index = 0\n",
    "            for frame_index in range(samples,len(shot),samples):\n",
    "                energy.append(np.sum(np.square(np.abs(shot[index:frame_index]))))\n",
    "                index = frame_index\n",
    "            energy.append(np.sum(np.square(np.abs(shot[index:len(shot)]))))\n",
    "    \n",
    "    features_1[file[:-7]] = np.zeros(int(len(energy)/frame))\n",
    "    \n",
    "    tail = int((len(energy)/100)*top_percent) \n",
    "    \n",
    "    \n",
    "    top = sorted(range(len(energy)), key=lambda i: energy[i])[-tail:]\n",
    "    \n",
    "    for i in range(int(len(energy))):\n",
    "        if i in top:\n",
    "            features_1[file[:-7]][i//frame] = 1"
   ]
  },
  {
   "cell_type": "code",
   "execution_count": 94,
   "metadata": {},
   "outputs": [],
   "source": [
    "features_2 ={}"
   ]
  },
  {
   "cell_type": "code",
   "execution_count": 95,
   "metadata": {},
   "outputs": [],
   "source": [
    "#shot 내에서 초당 averaged된 energy의 증가율 - 50%로 설정, 대안은 100%\n",
    "for file in file_list:\n",
    "    data=[]\n",
    "    with open(path+'/'+file,'rb') as f:\n",
    "        shots = pickle.load(f)\n",
    "        energy = []\n",
    "        for shot in shots:\n",
    "            index = 0\n",
    "            temp = []\n",
    "            for frame_index in range(samples,len(shot),samples):\n",
    "                temp.append(np.sum(np.square(np.abs(shot[index:frame_index]))))\n",
    "                index = frame_index\n",
    "            temp.append(np.sum(np.square(np.abs(shot[index:len(shot)]))))\n",
    "            \n",
    "            index=0\n",
    "            for frame_index in range(frame,len(temp),frame):\n",
    "                #print(index,frame_index)\n",
    "                energy.append(np.average(temp[index:frame_index]))\n",
    "                index = frame_index\n",
    "            #print(frame_index,len(temp))\n",
    "            energy.append(np.average(shot[index:len(shot)]))\n",
    "            \n",
    "    features_2[file[:-7]] = np.zeros(int(len(energy)))\n",
    "    \n",
    "    limit = 0\n",
    "    for second in range(int(len(energy))):\n",
    "        if limit !=0 and energy[second]>=energy[second-1]*2:\n",
    "            features_2[file[:-7]][second] = 1\n",
    "        limit+=1\n",
    "        if limit ==5:\n",
    "            limit = 0"
   ]
  },
  {
   "cell_type": "code",
   "execution_count": 96,
   "metadata": {},
   "outputs": [],
   "source": [
    "features_3 ={}"
   ]
  },
  {
   "cell_type": "code",
   "execution_count": 97,
   "metadata": {},
   "outputs": [],
   "source": [
    "#shot 내에서 초당 averaged된 energy의 증가율 - 50%로 설정, 대안은 100%\n",
    "for file in file_list:\n",
    "    data=[]\n",
    "    with open(path+'/'+file,'rb') as f:\n",
    "        shots = pickle.load(f)\n",
    "        energy = []\n",
    "        for shot in shots:\n",
    "            energy.append(np.average(shot))\n",
    "        \n",
    "        features_3[file[:-7]] = np.zeros(len(features_1[file[:-7]]))\n",
    "        top = sorted(range(len(energy)), key=lambda i : energy[i])[-int(len(energy)/100*top_percent):]\n",
    "        \n",
    "        for i in top:\n",
    "            for j in range(i,i+5):\n",
    "                features_3[file[:-7]][j] = 1\n",
    "        \n",
    "            "
   ]
  },
  {
   "cell_type": "code",
   "execution_count": 98,
   "metadata": {},
   "outputs": [],
   "source": [
    "import pickle\n",
    "with open('/home/ubuntu/gangmin/tsvt/video/lolData/exp_data/highlight_label.pickle',\"rb\") as f:\n",
    "    label = pickle.load(f)"
   ]
  },
  {
   "cell_type": "code",
   "execution_count": 99,
   "metadata": {},
   "outputs": [],
   "source": [
    "for i in label:\n",
    "    length = len(label[i])\n",
    "    features_1[i] = features_1[i][:length]\n",
    "    features_2[i] = features_2[i][:length]\n",
    "    features_3[i] = features_3[i][:length]\n",
    "    "
   ]
  },
  {
   "cell_type": "code",
   "execution_count": 100,
   "metadata": {},
   "outputs": [],
   "source": [
    "import numpy as np"
   ]
  },
  {
   "cell_type": "code",
   "execution_count": 101,
   "metadata": {},
   "outputs": [],
   "source": [
    "features = {}\n",
    "for i in label:\n",
    "    temp = np.zeros(len(label[i]))\n",
    "    for j in range(len(label[i])):\n",
    "        if features_1[i][j]==1 or features_2[i][j] ==1 or features_3[i][j] ==1:\n",
    "            temp[j] = 1\n",
    "    \n",
    "    features[i] = temp"
   ]
  },
  {
   "cell_type": "code",
   "execution_count": 104,
   "metadata": {},
   "outputs": [
    {
     "name": "stdout",
     "output_type": "stream",
     "text": [
      "precision : 0.20822454308093996, recall : 0.7541371158392435, f1 : 0.32634271099744244, accuracy : 0.435006435006435\n",
      "precision : 0.127831715210356, recall : 0.6245059288537549, f1 : 0.21222296843519142, accuracy : 0.45135640785781106\n",
      "precision : 0.13793103448275862, recall : 0.6724137931034483, f1 : 0.2289068231841526, accuracy : 0.42347778387273727\n",
      "precision : 0.19653179190751446, recall : 0.5431309904153354, f1 : 0.28862478777589134, accuracy : 0.5038484310242747\n",
      "precision : 0.1276849642004773, recall : 0.370242214532872, f1 : 0.1898846495119787, accuracy : 0.46294117647058824\n",
      "precision : 0.08274470232088799, recall : 0.43157894736842106, f1 : 0.1388653683319221, accuracy : 0.4276871131119865\n",
      "precision : 0.14386317907444668, recall : 0.446875, f1 : 0.2176560121765601, accuracy : 0.4449244060475162\n",
      "precision : 0.12849162011173185, recall : 0.3770491803278688, f1 : 0.19166666666666665, accuracy : 0.41916167664670656\n",
      "precision : 0.1752109020116807, recall : 0.5335968379446641, f1 : 0.26380068392769906, accuracy : 0.46541326711599856\n",
      "precision : 0.16741674167416742, recall : 0.4732824427480916, f1 : 0.2473404255319149, accuracy : 0.4891696750902527\n",
      "precision : 0.159375, recall : 0.583969465648855, f1 : 0.2504091653027823, accuracy : 0.4143222506393862\n",
      "precision : 0.14885496183206107, recall : 0.45614035087719296, f1 : 0.22446043165467627, accuracy : 0.4789753504108265\n",
      "precision : 0.1232876712328767, recall : 0.42618384401114207, f1 : 0.19124999999999998, accuracy : 0.4644039735099338\n",
      "precision : 0.09182736455463728, recall : 0.4608294930875576, f1 : 0.1531393568147014, accuracy : 0.4281282316442606\n",
      "precision : 0.18627450980392157, recall : 0.41192411924119243, f1 : 0.25654008438818565, accuracy : 0.46735187424425634\n",
      "precision : 0.09438470728793309, recall : 0.27816901408450706, f1 : 0.1409455842997324, accuracy : 0.43386243386243384\n",
      "precision : 0.13170731707317074, recall : 0.542713567839196, f1 : 0.21197252208047104, accuracy : 0.4544836956521739\n",
      "precision : 0.18931297709923664, recall : 0.549889135254989, f1 : 0.2816581487791028, accuracy : 0.460093896713615\n",
      "precision : 0.19143780290791598, recall : 0.6546961325966851, f1 : 0.29625, accuracy : 0.41354166666666664\n",
      "precision : 0.21991701244813278, recall : 0.5435897435897435, f1 : 0.31314623338257014, accuracy : 0.48476454293628807\n",
      "precision : 0.15310077519379844, recall : 0.6457765667574932, f1 : 0.2475195822454308, accuracy : 0.41517857142857145\n",
      "precision : 0.22338204592901878, recall : 0.5023474178403756, f1 : 0.3092485549132948, accuracy : 0.4764512595837897\n",
      "precision : 0.13151658767772512, recall : 0.4051094890510949, f1 : 0.19856887298747763, accuracy : 0.46411483253588515\n",
      "precision : 0.10867178924259056, recall : 0.3473684210526316, f1 : 0.16555183946488294, accuracy : 0.428080229226361\n",
      "precision : 0.17728055077452667, recall : 0.6261398176291794, f1 : 0.2763246143527834, accuracy : 0.47417153996101363\n",
      "precision : 0.16260162601626016, recall : 0.4854368932038835, f1 : 0.243605359317905, accuracy : 0.46672391584370976\n",
      "precision : 0.23192019950124687, recall : 0.46384039900249374, f1 : 0.3092269326683292, accuracy : 0.43584521384928715\n",
      "precision : 0.10510510510510511, recall : 0.4646017699115044, f1 : 0.17142857142857143, accuracy : 0.4416941694169417\n",
      "precision : 0.07706422018348624, recall : 0.37333333333333335, f1 : 0.12775665399239544, accuracy : 0.4783992723965439\n",
      "precision : 0.2094361334867664, recall : 0.6006600660066007, f1 : 0.310580204778157, accuracy : 0.4337771548703574\n",
      "precision : 0.1221311475409836, recall : 0.430635838150289, f1 : 0.19029374201787994, accuracy : 0.4366948023100844\n",
      "precision : 0.2184873949579832, recall : 0.6153846153846154, f1 : 0.32248062015503876, accuracy : 0.37926136363636365\n",
      "precision : 0.10361613351877608, recall : 0.37343358395989973, f1 : 0.16222101252041374, accuracy : 0.41482889733840306\n",
      "precision : 0.17318900915903415, recall : 0.41851106639839036, f1 : 0.24499411071849234, accuracy : 0.4769481844145247\n",
      "precision : 0.14702581369248036, recall : 0.5077519379844961, f1 : 0.22802436901653614, accuracy : 0.4346717654557043\n",
      "precision : 0.10960067969413764, recall : 0.5560344827586207, f1 : 0.18310858765081617, accuracy : 0.507066381156317\n",
      "precision : 0.1770573566084788, recall : 0.41887905604719766, f1 : 0.24890446976336547, accuracy : 0.46571072319201995\n",
      "precision : 0.11556982343499198, recall : 0.5217391304347826, f1 : 0.18922470433639949, accuracy : 0.47015886646629457\n",
      "precision : 0.23004201680672268, recall : 0.6697247706422018, f1 : 0.3424550430023456, accuracy : 0.4622762148337596\n",
      "precision : 0.20239190432382706, recall : 0.5288461538461539, f1 : 0.2927478376580173, accuracy : 0.4642137096774194\n",
      "precision : 0.2700892857142857, recall : 0.6173469387755102, f1 : 0.37577639751552794, accuracy : 0.451568894952251\n",
      "precision : 0.16105769230769232, recall : 0.5388739946380697, f1 : 0.24799506477483035, accuracy : 0.4622849580943979\n",
      "precision : 0.12669126691266913, recall : 0.36140350877192984, f1 : 0.1876138433515483, accuracy : 0.41851368970013036\n",
      "precision : 0.1863013698630137, recall : 0.6921119592875318, f1 : 0.29357798165137616, accuracy : 0.42562527424308905\n",
      "precision : 0.2518463810930576, recall : 0.4782608695652174, f1 : 0.3299467827769714, accuracy : 0.4517022961203484\n",
      "precision : 0.1913767019667171, recall : 0.5464362850971922, f1 : 0.2834733893557423, accuracy : 0.46663886572143454\n",
      "precision : 0.1265004616805171, recall : 0.40294117647058825, f1 : 0.19255094869992975, accuracy : 0.39842931937172776\n",
      "precision : 0.22614107883817428, recall : 0.5767195767195767, f1 : 0.3248882265275708, accuracy : 0.4958263772954925\n",
      "precision : 0.20311341734618235, recall : 0.4858156028368794, f1 : 0.28646105593308935, accuracy : 0.4581183009130607\n",
      "precision : 0.13760683760683762, recall : 0.46938775510204084, f1 : 0.21282220753469927, accuracy : 0.3751311647429171\n",
      "precision : 0.15339233038348082, recall : 0.45348837209302323, f1 : 0.2292432035268185, accuracy : 0.470736629667003\n",
      "precision : 0.23318385650224216, recall : 0.48417132216014896, f1 : 0.31476997578692495, accuracy : 0.47470997679814386\n",
      "precision : 0.09895337773549001, recall : 0.5621621621621622, f1 : 0.16828478964401294, accuracy : 0.49878108239882984\n",
      "precision : 0.10599478714161599, recall : 0.6161616161616161, f1 : 0.1808747220163084, accuracy : 0.44220090863200406\n",
      "precision : 0.13934426229508196, recall : 0.4421965317919075, f1 : 0.21191135734072022, accuracy : 0.4702048417132216\n",
      "precision : 0.15042117930204574, recall : 0.4921259842519685, f1 : 0.2304147465437788, accuracy : 0.459546925566343\n",
      "precision : 0.1931438127090301, recall : 0.5422535211267606, f1 : 0.28483353884093715, accuracy : 0.46246524559777574\n",
      "precision : 0.19015659955257272, recall : 0.5448717948717948, f1 : 0.28192371475953565, accuracy : 0.46244568590937307\n",
      "precision : 0.10936051899907322, recall : 0.4306569343065693, f1 : 0.1744271988174427, accuracy : 0.4567120622568093\n",
      "precision : 0.16408668730650156, recall : 0.4937888198757764, f1 : 0.2463206816421379, accuracy : 0.4768817204301075\n",
      "precision : 0.1562829989440338, recall : 0.45121951219512196, f1 : 0.23215686274509809, accuracy : 0.404138770541692\n",
      "precision : 0.16426116838487972, recall : 0.5945273631840796, f1 : 0.2574044157242865, accuracy : 0.39755351681957185\n",
      "precision : 0.1962233169129721, recall : 0.6065989847715736, f1 : 0.29652605459057074, accuracy : 0.4663529411764706\n",
      "precision : 0.11211211211211211, recall : 0.49557522123893805, f1 : 0.18285714285714283, accuracy : 0.48402061855670103\n",
      "precision : 0.14624183006535948, recall : 0.46736292428198434, f1 : 0.22277535780958307, accuracy : 0.4718816067653277\n",
      "precision : 0.14966887417218544, recall : 0.5280373831775701, f1 : 0.23323013415892674, accuracy : 0.4528718703976436\n",
      "precision : 0.11555555555555555, recall : 0.48826291079812206, f1 : 0.18688230008984724, accuracy : 0.45217917675544794\n",
      "precision : 0.15702479338842976, recall : 0.4470588235294118, f1 : 0.23241590214067281, accuracy : 0.4817618719889883\n",
      "precision : 0.2455968688845401, recall : 0.3984126984126984, f1 : 0.30387409200968524, accuracy : 0.44791166586653863\n",
      "precision : 0.19402985074626866, recall : 0.7129032258064516, f1 : 0.30503795721187027, accuracy : 0.4509269356597601\n",
      "precision : 0.14225053078556263, recall : 0.48905109489051096, f1 : 0.22039473684210525, accuracy : 0.471866295264624\n",
      "precision : 0.2546148949713558, recall : 0.5517241379310345, f1 : 0.34843205574912894, accuracy : 0.45161290322580644\n",
      "precision : 0.1490552834149755, recall : 0.505938242280285, f1 : 0.23027027027027028, accuracy : 0.4642588412340105\n",
      "precision : 0.19668508287292819, recall : 0.5705128205128205, f1 : 0.29252259654889073, accuracy : 0.4950146627565982\n",
      "precision : 0.2156019656019656, recall : 0.54, f1 : 0.3081650570676031, accuracy : 0.45971888926979776\n",
      "precision : 0.24222585924713586, recall : 0.5323741007194245, f1 : 0.33295838020247476, accuracy : 0.4931623931623932\n",
      "precision : 0.1044776119402985, recall : 0.2916666666666667, f1 : 0.15384615384615383, accuracy : 0.4487885462555066\n",
      "precision : 0.17638376383763837, recall : 0.5945273631840796, f1 : 0.27205463858850315, accuracy : 0.4736625514403292\n",
      "precision : 0.12285456187895212, recall : 0.4108761329305136, f1 : 0.18915159944367177, accuracy : 0.46757990867579907\n",
      "precision : 0.12381646030589949, recall : 0.4427083333333333, f1 : 0.19351166761525326, accuracy : 0.4704783258594918\n",
      "precision : 0.270935960591133, recall : 0.6380510440835266, f1 : 0.380359612724758, accuracy : 0.4441687344913151\n",
      "precision : 0.15924826904055392, recall : 0.5062893081761006, f1 : 0.24228743416102336, accuracy : 0.48464687819856705\n",
      "precision : 0.21951219512195122, recall : 0.621268656716418, f1 : 0.32440331222601076, accuracy : 0.458203125\n",
      "precision : 0.12311780336581045, recall : 0.4527687296416938, f1 : 0.1935933147632312, accuracy : 0.4419277108433735\n",
      "precision : 0.14798488664987405, recall : 0.7436708860759493, f1 : 0.2468487394957983, accuracy : 0.3926302414231258\n",
      "precision : 0.17993795243019647, recall : 0.5072886297376094, f1 : 0.26564885496183205, accuracy : 0.460762331838565\n",
      "precision : 0.1277533039647577, recall : 0.4013840830449827, f1 : 0.19381787802840433, accuracy : 0.4538766270514997\n",
      "precision : 0.2156040268456376, recall : 0.6330049261083743, f1 : 0.3216520650813517, accuracy : 0.4773384763741562\n",
      "precision : 0.16815742397137745, recall : 0.5280898876404494, f1 : 0.25508819538670285, accuracy : 0.5\n",
      "precision : 0.2825082508250825, recall : 0.6312684365781711, f1 : 0.39033287733698135, accuracy : 0.4744496855345912\n",
      "precision : 0.1779505946935041, recall : 0.5893939393939394, f1 : 0.2733661278988053, accuracy : 0.45621877465159083\n",
      "precision : 0.20842105263157895, recall : 0.41596638655462187, f1 : 0.2776998597475456, accuracy : 0.455026455026455\n",
      "precision : 0.17153284671532848, recall : 0.5094850948509485, f1 : 0.2566552901023891, accuracy : 0.46774193548387094\n",
      "precision : 0.18545081967213115, recall : 0.5070028011204482, f1 : 0.2715678919729932, accuracy : 0.46997816593886466\n",
      "precision : 0.19073946095369732, recall : 0.5859872611464968, f1 : 0.2877997914494265, accuracy : 0.41448778396913843\n",
      "precision : 0.186266771902131, recall : 0.6145833333333334, f1 : 0.2858873410054512, accuracy : 0.4356151268549545\n",
      "precision : 0.23768736616702354, recall : 0.4344422700587084, f1 : 0.30726643598615916, accuracy : 0.4493949394939494\n",
      "precision : 0.17320028510334998, recall : 0.5192307692307693, f1 : 0.2597541421699626, accuracy : 0.4681259600614439\n",
      "precision : 0.17342342342342343, recall : 0.4797507788161994, f1 : 0.2547559966914806, accuracy : 0.4322621298046629\n",
      "precision : 0.1623296158612144, recall : 0.4440677966101695, f1 : 0.23774954627949182, accuracy : 0.4534808067664281\n",
      "precision : 0.2066869300911854, recall : 0.591304347826087, f1 : 0.3063063063063063, accuracy : 0.48808864265927976\n",
      "precision : 0.11996418979409132, recall : 0.5877192982456141, f1 : 0.1992565055762082, accuracy : 0.4549595141700405\n",
      "precision : 0.18543046357615894, recall : 0.6345609065155807, f1 : 0.2869955156950673, accuracy : 0.4887459807073955\n",
      "precision : 0.2370012091898428, recall : 0.5429362880886427, f1 : 0.32996632996632996, accuracy : 0.4483714483714484\n",
      "precision : 0.14856557377049182, recall : 0.5105633802816901, f1 : 0.23015873015873017, accuracy : 0.478494623655914\n",
      "precision : 0.16007194244604317, recall : 0.55625, f1 : 0.24860335195530728, accuracy : 0.4662698412698413\n",
      "precision : 0.1813186813186813, recall : 0.45454545454545453, f1 : 0.25923016496465046, accuracy : 0.45046620046620045\n",
      "precision : 0.1875, recall : 0.5642201834862385, f1 : 0.28146453089244855, accuracy : 0.44596382884869873\n",
      "precision : 0.1522633744855967, recall : 0.5627376425855514, f1 : 0.2396761133603239, accuracy : 0.500531914893617\n",
      "precision : 0.16442605997931747, recall : 0.5179153094462541, f1 : 0.24960753532182103, accuracy : 0.4617117117117117\n",
      "precision : 0.1898846495119787, recall : 0.6028169014084507, f1 : 0.2887989203778677, accuracy : 0.4789915966386555\n",
      "precision : 0.15309126594700687, recall : 0.45348837209302323, f1 : 0.22890682318415256, accuracy : 0.47892910262766486\n"
     ]
    }
   ],
   "source": [
    "average = [0,0,0,0,0]\n",
    "for key in label.keys():\n",
    "    TP = len(np.where((features[key]==1)&(label[key]==1)==True)[0])\n",
    "    FP = len(np.where((features[key]==1)&(label[key]==0)==True)[0])\n",
    "    TN = len(np.where((features[key]==0)&(label[key]==0)==True)[0])\n",
    "    FN = len(np.where((features[key]==0)&(label[key]==1)==True)[0])\n",
    "\n",
    "    \n",
    "    precision = TP/(TP+FP)\n",
    "    recall = TP/(TP+FN)\n",
    "    accuracy = (TP+TN) / (TP+FN+FP+TN)\n",
    "    \n",
    "    if precision==0 and recall == 0:\n",
    "        print('!')\n",
    "    else:\n",
    "    \n",
    "        f1 = (2*precision*recall / (precision + recall))\n",
    "    \n",
    "        print('precision : {}, recall : {}, f1 : {}, accuracy : {}'.format(precision,recall,f1,accuracy))\n",
    "        average[0]+= precision\n",
    "        average[1] += recall\n",
    "        average[2] += f1\n",
    "        average[3] += accuracy\n",
    "        average[4]+=1"
   ]
  },
  {
   "cell_type": "code",
   "execution_count": 105,
   "metadata": {},
   "outputs": [
    {
     "name": "stdout",
     "output_type": "stream",
     "text": [
      "precision : 0.1682427925935916, recall : 0.5159199812152891, f1 : 0.2510484914643825, accuracy : 0.4559402514530489\n"
     ]
    }
   ],
   "source": [
    "print('precision : {}, recall : {}, f1 : {}, accuracy : {}'.format(average[0]/average[4],average[1]/average[4],average[2]/average[4],average[3]/average[4]))"
   ]
  },
  {
   "cell_type": "code",
   "execution_count": 106,
   "metadata": {},
   "outputs": [],
   "source": [
    "import pickle\n",
    "with open('/home/ubuntu/gangmin/tsvt/audio/features_1.pickle','wb')as f:\n",
    "    pickle.dump(features_1,f)\n",
    "with open('/home/ubuntu/gangmin/tsvt/audio/features_2.pickle','wb')as f:\n",
    "    pickle.dump(features_2,f)\n",
    "with open('/home/ubuntu/gangmin/tsvt/audio/features_3.pickle','wb')as f:\n",
    "    pickle.dump(features_3,f)"
   ]
  },
  {
   "cell_type": "code",
   "execution_count": null,
   "metadata": {},
   "outputs": [],
   "source": []
  }
 ],
 "metadata": {
  "kernelspec": {
   "display_name": "Python 3",
   "language": "python",
   "name": "python3"
  },
  "language_info": {
   "codemirror_mode": {
    "name": "ipython",
    "version": 3
   },
   "file_extension": ".py",
   "mimetype": "text/x-python",
   "name": "python",
   "nbconvert_exporter": "python",
   "pygments_lexer": "ipython3",
   "version": "3.6.9"
  }
 },
 "nbformat": 4,
 "nbformat_minor": 2
}
