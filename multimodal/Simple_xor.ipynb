{
 "cells": [
  {
   "cell_type": "markdown",
   "metadata": {},
   "source": [
    "# data"
   ]
  },
  {
   "cell_type": "code",
   "execution_count": 35,
   "metadata": {},
   "outputs": [],
   "source": [
    "import numpy as np\n",
    "import pickle\n",
    "with open('/home/ubuntu/gangmin/tsvt/multimodal/data/video_frames.pickle',\"rb\") as f:\n",
    "    video_frames = pickle.load(f)"
   ]
  },
  {
   "cell_type": "code",
   "execution_count": 36,
   "metadata": {},
   "outputs": [],
   "source": [
    "import numpy as np\n",
    "import pickle\n",
    "with open('/home/ubuntu/gangmin/tsvt/multimodal/data/audio_frames.pickle',\"rb\") as f:\n",
    "    audio_frames = pickle.load(f)"
   ]
  },
  {
   "cell_type": "markdown",
   "metadata": {},
   "source": [
    "# label"
   ]
  },
  {
   "cell_type": "code",
   "execution_count": 37,
   "metadata": {},
   "outputs": [],
   "source": [
    "import numpy as np\n",
    "import pickle\n",
    "with open('/home/ubuntu/gangmin/tsvt/multimodal/label/label.pickle',\"rb\") as f:\n",
    "    label = pickle.load(f)"
   ]
  },
  {
   "cell_type": "markdown",
   "metadata": {},
   "source": [
    "# xor concatenation"
   ]
  },
  {
   "cell_type": "code",
   "execution_count": 38,
   "metadata": {},
   "outputs": [],
   "source": [
    "for key in video_frames.keys():\n",
    "    for i,v in enumerate(video_frames[key]):\n",
    "        if video_frames[key][i] == 0 and audio_frames[key][i] == 1:\n",
    "            video_frames[key][i] = 1"
   ]
  },
  {
   "cell_type": "code",
   "execution_count": 40,
   "metadata": {},
   "outputs": [
    {
     "name": "stdout",
     "output_type": "stream",
     "text": [
      "precision : 0.24052132701421802, recall : 0.9598108747044918, f1 : 0.384651823780199, accuracy : 0.44272844272844275\n",
      "precision : 0.16842847075405215, recall : 0.9446640316205533, f1 : 0.28588516746411485, accuracy : 0.441534144059869\n",
      "precision : 0.16053249804228661, recall : 0.8836206896551724, f1 : 0.2717031146454606, accuracy : 0.3971475589687329\n",
      "precision : 0.2980318650421743, recall : 0.954954954954955, f1 : 0.45428571428571435, accuracy : 0.5476613380698638\n",
      "precision : 0.20229405630865485, recall : 0.671280276816609, f1 : 0.3108974358974359, accuracy : 0.49411764705882355\n",
      "precision : 0.15692821368948248, recall : 0.9894736842105263, f1 : 0.2708933717579251, accuracy : 0.4305008441193022\n",
      "precision : 0.22433132010353754, recall : 0.8125, f1 : 0.3515889114266396, accuracy : 0.4821814254859611\n",
      "precision : 0.18712871287128713, recall : 0.6077170418006431, f1 : 0.2861468584405753, accuracy : 0.4353293413173653\n",
      "precision : 0.22110849056603774, recall : 0.7352941176470589, f1 : 0.3399818676337262, accuracy : 0.48350478893224547\n",
      "precision : 0.21590023382696805, recall : 0.7048346055979644, f1 : 0.33054892601431984, accuracy : 0.4936823104693141\n",
      "precision : 0.18181818181818182, recall : 0.7404580152671756, f1 : 0.2919488337095561, accuracy : 0.3983375959079284\n",
      "precision : 0.23227752639517346, recall : 0.9005847953216374, f1 : 0.3693045563549161, accuracy : 0.4915418076365394\n",
      "precision : 0.2058636073932441, recall : 0.8997214484679665, f1 : 0.33506224066390045, accuracy : 0.4693708609271523\n",
      "precision : 0.1592920353982301, recall : 0.9041095890410958, f1 : 0.2708618331053352, accuracy : 0.44881075491209926\n",
      "precision : 0.30038022813688214, recall : 0.8426666666666667, f1 : 0.44288717589348287, accuracy : 0.5193470374848851\n",
      "precision : 0.23132969034608378, recall : 0.8943661971830986, f1 : 0.3675832127351664, accuracy : 0.4861845972957084\n",
      "precision : 0.17837235228539577, recall : 0.7920792079207921, f1 : 0.29117379435850776, accuracy : 0.47078804347826086\n",
      "precision : 0.2648432288192128, recall : 0.8744493392070485, f1 : 0.40655401945724523, accuracy : 0.5053350405463082\n",
      "precision : 0.24100719424460432, recall : 0.925414364640884, f1 : 0.38242009132420096, accuracy : 0.43645833333333334\n",
      "precision : 0.29000884173297964, recall : 0.841025641025641, f1 : 0.4312952005259697, accuracy : 0.5207756232686981\n",
      "precision : 0.19742990654205608, recall : 0.8871391076115486, f1 : 0.32298136645962733, accuracy : 0.42491883116883117\n",
      "precision : 0.29014598540145986, recall : 0.7464788732394366, f1 : 0.4178712220762155, accuracy : 0.5147864184008762\n",
      "precision : 0.21443089430894308, recall : 0.7617328519855595, f1 : 0.3346550356859635, accuracy : 0.49820574162679426\n",
      "precision : 0.20767306088407006, recall : 0.8498293515358362, f1 : 0.33378016085790885, accuracy : 0.4303724928366762\n",
      "precision : 0.192, recall : 0.729483282674772, f1 : 0.30398986700443315, accuracy : 0.4644249512670565\n",
      "precision : 0.21238300935925125, recall : 0.6990521327014217, f1 : 0.32578685808945335, accuracy : 0.47574066122799485\n",
      "precision : 0.34541984732824427, recall : 0.8960396039603961, f1 : 0.4986225895316804, accuracy : 0.5057705363204344\n",
      "precision : 0.16390584132519617, recall : 0.831858407079646, f1 : 0.2738528769118718, accuracy : 0.4515951595159516\n",
      "precision : 0.0995260663507109, recall : 0.56, f1 : 0.16901408450704225, accuracy : 0.43656207366984995\n",
      "precision : 0.2191780821917808, recall : 0.6864686468646864, f1 : 0.33226837060702874, accuracy : 0.4141555711282411\n",
      "precision : 0.1952414275717285, recall : 0.8063583815028902, f1 : 0.3143661971830986, accuracy : 0.4593513993780542\n",
      "precision : 0.23722275795564127, recall : 0.727810650887574, f1 : 0.3578181818181818, accuracy : 0.3728693181818182\n",
      "precision : 0.21917040358744394, recall : 0.9050925925925926, f1 : 0.35288808664259924, accuracy : 0.45475285171102664\n",
      "precision : 0.18028359216745443, recall : 0.5266272189349113, f1 : 0.26861167002012076, accuracy : 0.40677274581803347\n",
      "precision : 0.16122650840751732, recall : 0.6317829457364341, f1 : 0.2568951930654058, accuracy : 0.3989802421924793\n",
      "precision : 0.1522921522921523, recall : 0.8305084745762712, f1 : 0.2573867367038739, accuracy : 0.5156316916488223\n",
      "precision : 0.2783603431839847, recall : 0.8613569321533924, f1 : 0.4207492795389049, accuracy : 0.49875311720698257\n",
      "precision : 0.1619718309859155, recall : 0.7903780068728522, f1 : 0.2688486265341905, accuracy : 0.4628595963933018\n",
      "precision : 0.263915547024952, recall : 0.8409785932721713, f1 : 0.4017531044558072, accuracy : 0.47634271099744246\n",
      "precision : 0.27893601725377426, recall : 0.9326923076923077, f1 : 0.4294410625345877, accuracy : 0.4803427419354839\n",
      "precision : 0.3201219512195122, recall : 0.8035714285714286, f1 : 0.45784883720930236, accuracy : 0.49113233287858116\n",
      "precision : 0.2222972972972973, recall : 0.8820375335120644, f1 : 0.35509983810037776, accuracy : 0.4728716365240406\n",
      "precision : 0.18695652173913044, recall : 0.6035087719298246, f1 : 0.2854771784232365, accuracy : 0.438722294654498\n",
      "precision : 0.20463320463320464, recall : 0.8091603053435115, f1 : 0.3266563944530046, accuracy : 0.42474769635805176\n",
      "precision : 0.3, recall : 0.6395511921458625, f1 : 0.40841916703985665, accuracy : 0.4770387965162312\n",
      "precision : 0.28580060422960724, recall : 0.979296066252588, f1 : 0.44246959775491107, accuracy : 0.5029190992493745\n",
      "precision : 0.21445221445221446, recall : 0.8117647058823529, f1 : 0.3392747387830362, accuracy : 0.43717277486910994\n",
      "precision : 0.30317848410757947, recall : 0.9763779527559056, f1 : 0.4626865671641791, accuracy : 0.5191986644407346\n",
      "precision : 0.30062041737168643, recall : 0.9285714285714286, f1 : 0.45419684703877294, accuracy : 0.49146486701071856\n",
      "precision : 0.22123287671232877, recall : 0.9416909620991254, f1 : 0.3582917359955629, accuracy : 0.39296956977964326\n",
      "precision : 0.22485207100591717, recall : 0.7732558139534884, f1 : 0.34839554682383755, accuracy : 0.4979818365287588\n",
      "precision : 0.3202170963364993, recall : 0.8740740740740741, f1 : 0.46871896722939427, accuracy : 0.5034802784222738\n",
      "precision : 0.14285714285714285, recall : 0.9414893617021277, f1 : 0.248072880168185, accuracy : 0.47684056557776694\n",
      "precision : 0.14876690533015116, recall : 0.9211822660098522, f1 : 0.25616438356164384, accuracy : 0.4517920242301868\n",
      "precision : 0.18460264900662252, recall : 0.6353276353276354, f1 : 0.28608082103912763, accuracy : 0.4818435754189944\n",
      "precision : 0.2266152362584378, recall : 0.9251968503937008, f1 : 0.36405886909372576, accuracy : 0.4686084142394822\n",
      "precision : 0.26021798365122617, recall : 0.8967136150234741, f1 : 0.40337909186906024, accuracy : 0.4763670064874884\n",
      "precision : 0.23800738007380073, recall : 0.8269230769230769, f1 : 0.3696275071633238, accuracy : 0.4537554314090627\n",
      "precision : 0.19606358819076458, recall : 0.9384057971014492, f1 : 0.32435817157169694, accuracy : 0.47519455252918286\n",
      "precision : 0.2495755517826825, recall : 0.9130434782608695, f1 : 0.392, accuracy : 0.5096774193548387\n",
      "precision : 0.22970479704797048, recall : 0.7591463414634146, f1 : 0.35269121813031157, accuracy : 0.443700547778454\n",
      "precision : 0.22947976878612716, recall : 0.9875621890547264, f1 : 0.37242026266416506, accuracy : 0.41546526867627787\n",
      "precision : 0.2489451476793249, recall : 0.8984771573604061, f1 : 0.38986784140969166, accuracy : 0.47858823529411765\n",
      "precision : 0.1707105719237435, recall : 0.8716814159292036, f1 : 0.2855072463768116, accuracy : 0.4917525773195876\n",
      "precision : 0.23962516733601072, recall : 0.9347258485639687, f1 : 0.3814597762386787, accuracy : 0.509090909090909\n",
      "precision : 0.2085747392815759, recall : 0.8256880733944955, f1 : 0.33302497687326554, accuracy : 0.4690721649484536\n",
      "precision : 0.19256434699714015, recall : 0.9483568075117371, f1 : 0.3201267828843106, accuracy : 0.48062953995157387\n",
      "precision : 0.23464912280701755, recall : 0.8392156862745098, f1 : 0.3667523564695801, accuracy : 0.4913971094287681\n",
      "precision : 0.3867109634551495, recall : 0.9238095238095239, f1 : 0.5451990632318501, accuracy : 0.5338454152664426\n",
      "precision : 0.22608695652173913, recall : 0.9225806451612903, f1 : 0.36317460317460315, accuracy : 0.4531079607415485\n",
      "precision : 0.22460391425908668, recall : 0.8546099290780141, f1 : 0.35571955719557197, accuracy : 0.5136490250696378\n",
      "precision : 0.32786044125192404, recall : 0.8813793103448276, f1 : 0.4779356768885565, accuracy : 0.48826979472140764\n",
      "precision : 0.2259919493962047, recall : 0.9334916864608076, f1 : 0.3638888888888889, accuracy : 0.48306997742663654\n",
      "precision : 0.2515837104072398, recall : 0.8910256410256411, f1 : 0.392378263937897, accuracy : 0.4950146627565982\n",
      "precision : 0.29938417811463763, recall : 0.9590288315629742, f1 : 0.45631768953068597, accuracy : 0.4837161467260884\n",
      "precision : 0.3258354755784062, recall : 0.9118705035971223, f1 : 0.4801136363636364, accuracy : 0.5307692307692308\n",
      "precision : 0.1885488647581441, recall : 0.6121794871794872, f1 : 0.2883018867924528, accuracy : 0.480726872246696\n",
      "precision : 0.22613065326633167, recall : 0.8955223880597015, f1 : 0.3610832497492477, accuracy : 0.4757201646090535\n",
      "precision : 0.20345640219952868, recall : 0.7824773413897281, f1 : 0.32294264339152123, accuracy : 0.5041095890410959\n",
      "precision : 0.1930572472594397, recall : 0.8255208333333334, f1 : 0.3129318854886476, accuracy : 0.4798206278026906\n",
      "precision : 0.3122251539138083, recall : 0.8236658932714617, f1 : 0.4528061224489796, accuracy : 0.46774193548387094\n",
      "precision : 0.18521739130434783, recall : 0.6677115987460815, f1 : 0.28999319264805995, accuracy : 0.4662231320368475\n",
      "precision : 0.2808069792802617, recall : 0.960820895522388, f1 : 0.4345991561181435, accuracy : 0.4765625\n",
      "precision : 0.17893106119287375, recall : 0.752442996742671, f1 : 0.28911138923654567, accuracy : 0.4525301204819277\n",
      "precision : 0.16047197640117994, recall : 0.8607594936708861, f1 : 0.2705121829935356, accuracy : 0.3786531130876747\n",
      "precision : 0.24301439458086369, recall : 0.8367346938775511, f1 : 0.3766404199475066, accuracy : 0.4674887892376682\n",
      "precision : 0.2017458777885548, recall : 0.7197231833910035, f1 : 0.3151515151515152, accuracy : 0.488398415393322\n",
      "precision : 0.2625, recall : 0.9310344827586207, f1 : 0.409534127843987, accuracy : 0.47444551591128253\n",
      "precision : 0.22781954887218045, recall : 0.851123595505618, f1 : 0.35943060498220647, accuracy : 0.5081967213114754\n",
      "precision : 0.35355763927192496, recall : 0.9454277286135693, f1 : 0.5146527498996387, accuracy : 0.5247641509433962\n",
      "precision : 0.2323972323972324, recall : 0.8651515151515151, f1 : 0.36637792749438564, accuracy : 0.4806731527741257\n",
      "precision : 0.2894033837934105, recall : 0.6827731092436975, f1 : 0.40650406504065045, accuracy : 0.4978835978835979\n",
      "precision : 0.2540029112081514, recall : 0.9407008086253369, f1 : 0.4, accuracy : 0.48826979472140764\n",
      "precision : 0.2639873916469661, recall : 0.938375350140056, f1 : 0.4120541205412054, accuracy : 0.4781659388646288\n",
      "precision : 0.22009569377990432, recall : 0.7813163481953291, f1 : 0.34344377041530566, accuracy : 0.39691384483497644\n",
      "precision : 0.2456953642384106, recall : 0.9661458333333334, f1 : 0.3917634635691658, accuracy : 0.4485399712781235\n",
      "precision : 0.35035349567949725, recall : 0.87279843444227, f1 : 0.5, accuracy : 0.5093509350935094\n",
      "precision : 0.23963133640552994, recall : 0.8888888888888888, f1 : 0.37749546279491825, accuracy : 0.4731182795698925\n",
      "precision : 0.23366336633663368, recall : 0.735202492211838, f1 : 0.35462058602554475, accuracy : 0.4587271581600504\n",
      "precision : 0.2588116817724068, recall : 0.8711864406779661, f1 : 0.3990683229813664, accuracy : 0.49642160052049444\n",
      "precision : 0.24839596700274977, recall : 0.7855072463768116, f1 : 0.37743732590529244, accuracy : 0.5047091412742383\n",
      "precision : 0.16174055829228243, recall : 0.8640350877192983, f1 : 0.27247579529737204, accuracy : 0.4676113360323887\n",
      "precision : 0.22429906542056074, recall : 0.8838526912181303, f1 : 0.3577981651376147, accuracy : 0.4855305466237942\n",
      "precision : 0.30729701952723537, recall : 0.8282548476454293, f1 : 0.44827586206896547, accuracy : 0.48995148995148996\n",
      "precision : 0.22307039864291772, recall : 0.926056338028169, f1 : 0.3595352016404648, accuracy : 0.4962365591397849\n",
      "precision : 0.20878274268104777, recall : 0.846875, f1 : 0.3349814585908529, accuracy : 0.4662698412698413\n",
      "precision : 0.30543572044866263, recall : 0.9752066115702479, f1 : 0.46517739816031534, accuracy : 0.5256410256410257\n",
      "precision : 0.23844608171466844, recall : 0.8165137614678899, f1 : 0.3691031622602384, accuracy : 0.4631671812968681\n",
      "precision : 0.18672566371681415, recall : 0.8022813688212928, f1 : 0.302943287867911, accuracy : 0.48351063829787233\n",
      "precision : 0.24548440065681446, recall : 0.9739413680781759, f1 : 0.3921311475409836, accuracy : 0.4780405405405405\n",
      "precision : 0.2332129963898917, recall : 0.9098591549295775, f1 : 0.37126436781609196, accuracy : 0.4592189817103312\n",
      "precision : 0.23340627279358134, recall : 0.9302325581395349, f1 : 0.37317784256559766, accuracy : 0.4670302429350521\n"
     ]
    }
   ],
   "source": [
    "average = [0,0,0,0,0]\n",
    "for key in label.keys():\n",
    "    TP = len(np.where((video_frames[key]==1)&(label[key]==1)==True)[0])\n",
    "    FP = len(np.where((video_frames[key]==1)&(label[key]==0)==True)[0])\n",
    "    TN = len(np.where((video_frames[key]==0)&(label[key]==0)==True)[0])\n",
    "    FN = len(np.where((video_frames[key]==0)&(label[key]==1)==True)[0])\n",
    "\n",
    "    \n",
    "    precision = TP/(TP+FP)\n",
    "    recall = TP/(TP+FN)\n",
    "    accuracy = (TP+TN) / (TP+FN+FP+TN)\n",
    "    \n",
    "    if precision==0 and recall == 0:\n",
    "        print('!')\n",
    "    else:\n",
    "    \n",
    "        f1 = (2*precision*recall / (precision + recall))\n",
    "    \n",
    "        print('precision : {}, recall : {}, f1 : {}, accuracy : {}'.format(precision,recall,f1,accuracy))\n",
    "        average[0]+= precision\n",
    "        average[1] += recall\n",
    "        average[2] += f1\n",
    "        average[3] += accuracy\n",
    "        average[4]+=1"
   ]
  },
  {
   "cell_type": "code",
   "execution_count": 41,
   "metadata": {},
   "outputs": [
    {
     "data": {
      "text/plain": [
       "[26.026313710644864,\n",
       " 94.294785677018,\n",
       " 40.478429560849335,\n",
       " 52.90380723707277,\n",
       " 112]"
      ]
     },
     "execution_count": 41,
     "metadata": {},
     "output_type": "execute_result"
    }
   ],
   "source": [
    "average"
   ]
  },
  {
   "cell_type": "code",
   "execution_count": 42,
   "metadata": {},
   "outputs": [
    {
     "name": "stdout",
     "output_type": "stream",
     "text": [
      "precision : 0.23237780098790056, recall : 0.8419177292590893, f1 : 0.3614145496504405, accuracy : 0.4723554217595783\n"
     ]
    }
   ],
   "source": [
    "print('precision : {}, recall : {}, f1 : {}, accuracy : {}'.format(average[0]/average[4],average[1]/average[4],average[2]/average[4],average[3]/average[4]))"
   ]
  },
  {
   "cell_type": "code",
   "execution_count": null,
   "metadata": {},
   "outputs": [],
   "source": []
  }
 ],
 "metadata": {
  "kernelspec": {
   "display_name": "Python 3",
   "language": "python",
   "name": "python3"
  },
  "language_info": {
   "codemirror_mode": {
    "name": "ipython",
    "version": 3
   },
   "file_extension": ".py",
   "mimetype": "text/x-python",
   "name": "python",
   "nbconvert_exporter": "python",
   "pygments_lexer": "ipython3",
   "version": "3.6.9"
  }
 },
 "nbformat": 4,
 "nbformat_minor": 2
}
