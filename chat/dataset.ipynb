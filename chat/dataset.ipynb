{
 "cells": [
  {
   "cell_type": "code",
   "execution_count": 1,
   "metadata": {},
   "outputs": [],
   "source": [
    "import pandas as pd\n",
    "import os\n",
    "import math\n",
    "import json\n"
   ]
  },
  {
   "cell_type": "code",
   "execution_count": null,
   "metadata": {},
   "outputs": [],
   "source": [
    "metadata=pd.read_csv('../share_data/new_metadata.csv')"
   ]
  },
  {
   "cell_type": "markdown",
   "metadata": {},
   "source": [
    "# chat"
   ]
  },
  {
   "cell_type": "code",
   "execution_count": null,
   "metadata": {},
   "outputs": [],
   "source": [
    "data1={}\n",
    "for idx,gi in enumerate(os.listdir(\"./result\")):\n",
    "    print(gi)\n",
    "    gameid=gi.split('_')[0]\n",
    "    chat_data=pd.read_csv('./result/'+gi)\n",
    "    delay=int(gi.split('_')[1])\n",
    "    duration=float(gi.split('_')[2][:-4])\n",
    "    gameid=int(gi.split('_')[0])\n",
    "    meta=metadata.loc[metadata['gameid']==gameid]\n",
    "\n",
    "    st=meta['new_st']\n",
    "    et=meta['new_et']\n",
    "\n",
    "    chat=[' ' for i in range(math.floor(duration)+math.floor(delay)+1)]\n",
    "\n",
    "\n",
    "    init_time=int(st)-int(delay)\n",
    "    for c_idx,c in enumerate(chat_data['duration']):\n",
    "        chat[int(c)-init_time]=chat[int(c)-init_time]+str(chat_data['chat'][c_idx])\n",
    "    data1[idx]=chat"
   ]
  },
  {
   "cell_type": "code",
   "execution_count": null,
   "metadata": {},
   "outputs": [],
   "source": [
    "with open('chat.json', 'a') as f:\n",
    "    json.dump(data1, f, indent=2)"
   ]
  },
  {
   "cell_type": "markdown",
   "metadata": {},
   "source": [
    "# label"
   ]
  },
  {
   "cell_type": "code",
   "execution_count": null,
   "metadata": {},
   "outputs": [],
   "source": [
    "with open('../share_data/label.json','r') as f:\n",
    "    labels=json.load(f)\n",
    "data2={}\n",
    "for idx,gi in enumerate(os.listdir(\"./result\")):\n",
    "    if '.csv' in gi:\n",
    "        print(gi)\n",
    "        gameid=gi.split('_')[0]\n",
    "        chat_data=pd.read_csv('./result/'+gi)\n",
    "        delay=int(gi.split('_')[1])\n",
    "        duration=float(gi.split('_')[2][:-4])\n",
    "        gameid=int(gi.split('_')[0])\n",
    "        meta=metadata.loc[metadata['gameid']==gameid]\n",
    "\n",
    "        st=meta['new_st']\n",
    "        et=meta['new_et']\n",
    "\n",
    "        gt=[0 for i in range(math.floor(duration)+math.floor(delay)+1)]    \n",
    "        label=labels[str(gameid)]\n",
    "        for (x,y) in label:\n",
    "            start=int(x.split(':')[0])*60+int(x.split(':')[1])\n",
    "            end=int(y.split(':')[0])*60+int(y.split(':')[1])\n",
    "            for i in range(start,end+1):\n",
    "                gt[i]=1  \n",
    "        data2[idx]=gt\n"
   ]
  },
  {
   "cell_type": "code",
   "execution_count": null,
   "metadata": {},
   "outputs": [],
   "source": [
    "with open('label.json', 'a') as f:\n",
    "    json.dump(data2, f, indent=2)"
   ]
  }
 ],
 "metadata": {
  "kernelspec": {
   "display_name": "hyein_1.2.0",
   "language": "python",
   "name": "newcuda"
  },
  "language_info": {
   "codemirror_mode": {
    "name": "ipython",
    "version": 3
   },
   "file_extension": ".py",
   "mimetype": "text/x-python",
   "name": "python",
   "nbconvert_exporter": "python",
   "pygments_lexer": "ipython3",
   "version": "3.7.6"
  }
 },
 "nbformat": 4,
 "nbformat_minor": 2
}
