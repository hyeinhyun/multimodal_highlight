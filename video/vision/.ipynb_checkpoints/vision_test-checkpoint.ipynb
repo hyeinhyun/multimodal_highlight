{
 "cells": [
  {
   "cell_type": "code",
   "execution_count": null,
   "metadata": {},
   "outputs": [],
   "source": [
    "from PIL import Image"
   ]
  },
  {
   "cell_type": "code",
   "execution_count": null,
   "metadata": {},
   "outputs": [],
   "source": [
    "img =Image.open(\"/home/ubuntu/gangmin/frame/frame5601.jpg\")\n",
    "img"
   ]
  },
  {
   "cell_type": "code",
   "execution_count": null,
   "metadata": {},
   "outputs": [],
   "source": [
    "replay=img.crop((0,0,200,150))\n",
    "replay"
   ]
  },
  {
   "cell_type": "code",
   "execution_count": null,
   "metadata": {},
   "outputs": [],
   "source": [
    "t_b=img.crop((670,10,700,40))\n",
    "t_b"
   ]
  },
  {
   "cell_type": "code",
   "execution_count": null,
   "metadata": {},
   "outputs": [],
   "source": [
    "g_b=img.crop((750,10,810,40))\n",
    "g_b"
   ]
  },
  {
   "cell_type": "code",
   "execution_count": null,
   "metadata": {},
   "outputs": [],
   "source": [
    "k_b=img.crop((910,15,950,50))\n",
    "k_b"
   ]
  },
  {
   "cell_type": "code",
   "execution_count": null,
   "metadata": {},
   "outputs": [],
   "source": [
    "k_r=img.crop((985,15,1025,50))\n",
    "k_r"
   ]
  },
  {
   "cell_type": "code",
   "execution_count": null,
   "metadata": {},
   "outputs": [],
   "source": [
    "g_r=img.crop((1135,10,1200,45))\n",
    "g_r"
   ]
  },
  {
   "cell_type": "code",
   "execution_count": null,
   "metadata": {},
   "outputs": [],
   "source": [
    "t_r=img.crop((1260,10,1285,40))\n",
    "t_r"
   ]
  },
  {
   "cell_type": "code",
   "execution_count": null,
   "metadata": {},
   "outputs": [],
   "source": [
    "status=img.crop((700,200,1200,300))\n",
    "status"
   ]
  },
  {
   "cell_type": "code",
   "execution_count": null,
   "metadata": {},
   "outputs": [],
   "source": [
    "import os\n",
    "\n",
    "os.environ['GOOGLE_APPLICATION_CREDENTIALS']=\"/home/ubuntu/2020_1/cap/google_hyein.json\""
   ]
  },
  {
   "cell_type": "code",
   "execution_count": 2,
   "metadata": {},
   "outputs": [
    {
     "ename": "NameError",
     "evalue": "name 'xrange' is not defined",
     "output_type": "error",
     "traceback": [
      "\u001b[0;31m---------------------------------------------------------------------------\u001b[0m",
      "\u001b[0;31mNameError\u001b[0m                                 Traceback (most recent call last)",
      "\u001b[0;32m<ipython-input-2-a4bc50fa6217>\u001b[0m in \u001b[0;36m<module>\u001b[0;34m\u001b[0m\n\u001b[1;32m    140\u001b[0m     \u001b[0;32mreturn\u001b[0m \u001b[0mscore_list\u001b[0m\u001b[0;34m\u001b[0m\u001b[0;34m\u001b[0m\u001b[0m\n\u001b[1;32m    141\u001b[0m \u001b[0;34m\u001b[0m\u001b[0m\n\u001b[0;32m--> 142\u001b[0;31m \u001b[0;32mfor\u001b[0m \u001b[0mi\u001b[0m \u001b[0;32min\u001b[0m \u001b[0mxrange\u001b[0m\u001b[0;34m(\u001b[0m\u001b[0;36m10000\u001b[0m\u001b[0;34m)\u001b[0m\u001b[0;34m:\u001b[0m\u001b[0;34m\u001b[0m\u001b[0;34m\u001b[0m\u001b[0m\n\u001b[0m\u001b[1;32m    143\u001b[0m     \u001b[0;32mif\u001b[0m \u001b[0mi\u001b[0m\u001b[0;34m%\u001b[0m\u001b[0;36m100\u001b[0m\u001b[0;34m==\u001b[0m\u001b[0;36m0\u001b[0m\u001b[0;34m:\u001b[0m\u001b[0;34m\u001b[0m\u001b[0;34m\u001b[0m\u001b[0m\n\u001b[1;32m    144\u001b[0m         \u001b[0mprint\u001b[0m\u001b[0;34m(\u001b[0m\u001b[0;34m\"**********{}************\"\u001b[0m\u001b[0;34m.\u001b[0m\u001b[0mformat\u001b[0m\u001b[0;34m(\u001b[0m\u001b[0mi\u001b[0m\u001b[0;34m)\u001b[0m\u001b[0;34m)\u001b[0m\u001b[0;34m\u001b[0m\u001b[0;34m\u001b[0m\u001b[0m\n",
      "\u001b[0;31mNameError\u001b[0m: name 'xrange' is not defined"
     ]
    }
   ],
   "source": [
    "import io\n",
    "import os\n",
    "from google.cloud import vision\n",
    "from google.cloud.vision import types\n",
    "from PIL import Image\n",
    "import csv\n",
    "\n",
    "\n",
    "def image_to_byte_array(image:Image):\n",
    "    imgbyteArr=io.BytesIO()\n",
    "    image.save(imgbyteArr,format='PNG')\n",
    "    imgbyteArr=imgbyteArr.getvalue()\n",
    "    return imgbyteArr\n",
    "def crop_image(img):\n",
    "    t_b=img.crop((670,10,700,40))\n",
    "    t_b=image_to_byte_array(t_b)\n",
    "    \n",
    "    g_b=img.crop((750,10,810,40))\n",
    "    g_b=image_to_byte_array(g_b)\n",
    "    \n",
    "    k_b=img.crop((910,15,950,50))\n",
    "    k_b=image_to_byte_array(k_b)\n",
    "    \n",
    "    k_r=img.crop((985,15,1025,50))\n",
    "    k_r=image_to_byte_array(k_r)\n",
    "    \n",
    "    g_r=img.crop((1135,10,1200,45))\n",
    "    g_r=image_to_byte_array(g_r)\n",
    "    \n",
    "    t_r=img.crop((1260,10,1285,40))\n",
    "    t_r=image_to_byte_array(t_r)\n",
    "    \n",
    "    status=img.crop((700,200,1200,300))\n",
    "    status=image_to_byte_array(status)\n",
    "    \n",
    "    replay=img.crop((0,0,200,150))\n",
    "    replay=image_to_byte_array(replay)\n",
    "    return t_b, g_b,k_b,k_r,g_r,t_r,status,replay\n",
    "\n",
    "def vision_api(file_name):\n",
    "    client=vision.ImageAnnotatorClient()\n",
    "    img =Image.open(file_name)\n",
    "    \n",
    "    t_b, g_b,k_b,k_r,g_r,t_r,status,replay=crop_image(img)\n",
    "    img.close()\n",
    "    dash_list=[t_b, g_b,k_b,k_r,g_r,t_r,status,replay]\n",
    "    name_list=[\"tower_blue\",\"gold_blue\",\"kill_blue\",\"kill_red\",\"gold_red\",\"tower_red\",\"status\",\"replay\"]\n",
    "    text_list={}\n",
    "    for idx,imgbyteArr in enumerate(dash_list):\n",
    "        image=types.Image(content=imgbyteArr)\n",
    "        response=client.document_text_detection(image=image)\n",
    "        texts=response.text_annotations\n",
    "        try:\n",
    "            text_list[name_list[idx]]=(texts[0].description.strip()).lower()\n",
    "        except:\n",
    "            text_list[name_list[idx]]=''\n",
    "        \"\"\"\n",
    "        for i,text in enumerate(texts):\n",
    "            print('\\n\" : {}\"'.format(text.description))\n",
    "            if i==0:\n",
    "                text_list[name_list[idx]]=text.description[:-1]\n",
    "        \"\"\"\n",
    "        \n",
    "\n",
    "        if response.error.message:\n",
    "            raise Exception(\n",
    "                '{}\\nFor more info on error messages, check: '\n",
    "                'https://cloud.google.com/apis/design/errors'.format(\n",
    "                    response.error.message))\n",
    "        \n",
    "    return score_cal(text_list)\n",
    "        \n",
    "def score_cal(text_list):\n",
    "    name_list=[\"tower_blue\",\"gold_blue\",\"kill_blue\",\"kill_red\",\"gold_red\",\"tower_red\",\"status\",\"replay\"]\n",
    "    score_list={}\n",
    "    if \"REPLAY\" in text_list['replay']:\n",
    "        score_list['replay']=True\n",
    "    else:\n",
    "        score_list['replay']=False\n",
    "        ######t_b\n",
    "        try:\n",
    "            t_b=text_list['tower_blue'].replace('о','0')\n",
    "            score_list['tower_blue']=int(t_b)\n",
    "        except:\n",
    "            #print(\"can not recognize tower_blue\")\n",
    "            score_list['tower_blue']=0\n",
    "\n",
    "        ######g_b\n",
    "        try:\n",
    "            g_b=text_list['gold_blue'].replace(',','.')\n",
    "            score_list['gold_blue']=float(g_b[:-1])#k 제거\n",
    "        except:\n",
    "            #print(\"can not recognize gold_blue\")\n",
    "            score_list['gold_blue']=0\n",
    "        \n",
    "        ######k_b\n",
    "        try:\n",
    "            k_b=text_list['kill_blue'].replace('о','0')        \n",
    "            score_list['kill_blue']=int(k_b)\n",
    "        except:\n",
    "            #print(\"can not recognize kill_blue\")\n",
    "            score_list['kill_blue']=0\n",
    "\n",
    "        \n",
    "        ######k_r\n",
    "        try:\n",
    "            k_r=text_list['kill_red'].replace('о','0')        \n",
    "            score_list['kill_red']=int(k_r) \n",
    "        except:\n",
    "            #print(\"can not recognize kill_red\")\n",
    "            score_list['kill_red']=0\n",
    "        \n",
    "        ######g_r\n",
    "        try:\n",
    "            g_r=text_list['gold_red'].replace(',','.')\n",
    "            score_list['gold_red']=float(g_r[:-1])#k 제거\n",
    "        except:\n",
    "            #print(\"can not recognize gold_red\")\n",
    "            score_list['gold_red']=0\n",
    "        \n",
    "        ######tower_red\n",
    "        try:\n",
    "            t_r=text_list['tower_red'].replace('о','0')\n",
    "            score_list['tower_red']=int(t_r)    \n",
    "        except:\n",
    "            #print(\"can not recognize tower_red\")\n",
    "            score_list['tower_red']=0\n",
    "        \n",
    "        ######status\n",
    "        status=[]\n",
    "        if \"dragon\" in status or \"龙\" in status:\n",
    "            status=[1,0]\n",
    "            score_list['status']=status\n",
    "        elif \"baron\" in status or \"男爵\" in status:\n",
    "            status=[0,1]\n",
    "            score_list['status']=status\n",
    "        else:\n",
    "            status=[0,0]\n",
    "            score_list['status']=status   \n",
    "    return score_list\n",
    "\n",
    "\n",
    "\n",
    "#######main\n",
    "with open('result.csv', 'a', newline='') as csvfile:\n",
    "    fieldnames = ['replay', 'tower_blue','gold_blue','kill_blue','kill_red','gold_red','tower_red','status']\n",
    "    writer = csv.DictWriter(csvfile, fieldnames=fieldnames)\n",
    "    writer.writeheader()\n",
    "\n",
    "for i in range(10000):\n",
    "    if next(i)%100==0:\n",
    "        print(\"**********{}************\".format(i))\n",
    "    file_name='/home/ubuntu/gangmin/frame/frame{}.jpg'.format(i)\n",
    "with open('result.csv', 'a', newline='') as csvfile:\n",
    "    fieldnames = ['replay', 'tower_blue','gold_blue','kill_blue','kill_red','gold_red','tower_red','status']\n",
    "    writer = csv.DictWriter(csvfile, fieldnames=fieldnames)\n",
    "    writer.writeheader()\n",
    "    writer.writerow(vision_api(file_name))"
   ]
  },
  {
   "cell_type": "code",
   "execution_count": null,
   "metadata": {},
   "outputs": [],
   "source": [
    "imgbyteArr"
   ]
  },
  {
   "cell_type": "code",
   "execution_count": null,
   "metadata": {},
   "outputs": [],
   "source": [
    "img =Image.open(\"dragon-4.png\")\n",
    "img2=img.crop((1000,110,1030,160))\n",
    "img2"
   ]
  },
  {
   "cell_type": "code",
   "execution_count": null,
   "metadata": {},
   "outputs": [],
   "source": [
    "img=image_to_byte_array(t_r.convert(\"L\"))\n"
   ]
  },
  {
   "cell_type": "code",
   "execution_count": null,
   "metadata": {
    "scrolled": true
   },
   "outputs": [],
   "source": [
    "client=vision.ImageAnnotatorClient()\n",
    "image=types.Image(content=img)\n",
    "response=client.document_text_detection(image=image)\n",
    "texts=response.text_annotations\n",
    "print(texts[0].description.strip())\n",
    "\n",
    "if response.error.message:\n",
    "    raise Exception(\n",
    "        '{}\\nFor more info on error messages, check: '\n",
    "        'https://cloud.google.com/apis/design/errors'.format(\n",
    "            response.error.message))"
   ]
  },
  {
   "cell_type": "code",
   "execution_count": null,
   "metadata": {},
   "outputs": [],
   "source": []
  }
 ],
 "metadata": {
  "kernelspec": {
   "display_name": "hyein_1.2.0",
   "language": "python",
   "name": "newcuda"
  },
  "language_info": {
   "codemirror_mode": {
    "name": "ipython",
    "version": 3
   },
   "file_extension": ".py",
   "mimetype": "text/x-python",
   "name": "python",
   "nbconvert_exporter": "python",
   "pygments_lexer": "ipython3",
   "version": "3.7.6"
  }
 },
 "nbformat": 4,
 "nbformat_minor": 2
}
