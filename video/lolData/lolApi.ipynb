{
 "cells": [
  {
   "cell_type": "code",
   "execution_count": 2,
   "metadata": {},
   "outputs": [],
   "source": [
    "import pandas as pd\n",
    "import numpy as np"
   ]
  },
  {
   "cell_type": "code",
   "execution_count": 3,
   "metadata": {},
   "outputs": [],
   "source": [
    "import os\n",
    "path = '/home/ubuntu/gangmin/tsvt/video/lolData/leagueoflegends'\n",
    "file_list = os.listdir(path)"
   ]
  },
  {
   "cell_type": "code",
   "execution_count": 4,
   "metadata": {},
   "outputs": [
    {
     "data": {
      "text/plain": [
       "' List of minutes that Blue Team destroyed a tower and Tower Location '"
      ]
     },
     "execution_count": 4,
     "metadata": {},
     "output_type": "execute_result"
    }
   ],
   "source": [
    "_columns = pd.read_csv(path + '/_columns.csv')\n",
    "_columns['ColumnDescription'][13]"
   ]
  },
  {
   "cell_type": "code",
   "execution_count": 5,
   "metadata": {},
   "outputs": [],
   "source": [
    "leagueoflegend = pd.read_csv(path+'/LeagueofLegends.csv')\n",
    "matchinfo = pd.read_csv(path+'/matchinfo.csv')"
   ]
  },
  {
   "cell_type": "code",
   "execution_count": 6,
   "metadata": {},
   "outputs": [],
   "source": [
    "leagueoflegends = pd.DataFrame(columns = leagueoflegend.columns)\n",
    "index = 0\n",
    "for i in range(len(leagueoflegend)):\n",
    "    if int(leagueoflegend.loc[[i]]['Year']) < 2018:\n",
    "        leagueoflegends = pd.concat([leagueoflegends, leagueoflegend.loc[[i]]],ignore_index=True )\n",
    "        index+=1"
   ]
  },
  {
   "cell_type": "code",
   "execution_count": 7,
   "metadata": {},
   "outputs": [],
   "source": [
    "columns = ['goldblue','goldred','bTowers','rTowers','bKills','rKills','bResult','rResult']"
   ]
  },
  {
   "cell_type": "code",
   "execution_count": 8,
   "metadata": {},
   "outputs": [],
   "source": [
    "datas = leagueoflegends.loc[:,columns]"
   ]
  },
  {
   "cell_type": "code",
   "execution_count": 9,
   "metadata": {},
   "outputs": [],
   "source": [
    "#gold \n",
    "datas['goldblue']=list(map(lambda x: x[1:-1].split(\",\")[-1],datas['goldblue']))\n",
    "datas['goldred']=list(map(lambda x: x[1:-1].split(\",\")[-1],datas['goldred']))"
   ]
  },
  {
   "cell_type": "code",
   "execution_count": 10,
   "metadata": {
    "scrolled": true
   },
   "outputs": [],
   "source": [
    "#kills\n",
    "datas['bKills'] = list(map(lambda x: x[1:-1].count('[')/2,datas['bKills']))\n",
    "datas['rKills'] = list(map(lambda x: x[1:-1].count('[')/2,datas['rKills']))"
   ]
  },
  {
   "cell_type": "code",
   "execution_count": 11,
   "metadata": {},
   "outputs": [],
   "source": [
    "#Towers\n",
    "datas['bTowers'] = list(map(lambda x: x[1:-1].count('['),datas['bTowers']))\n",
    "datas['rTowers'] = list(map(lambda x: x[1:-1].count('['),datas['rTowers']))"
   ]
  },
  {
   "cell_type": "code",
   "execution_count": 12,
   "metadata": {
    "scrolled": true
   },
   "outputs": [
    {
     "name": "stdout",
     "output_type": "stream",
     "text": [
      "     goldblue goldred  bTowers  rTowers  bKills  rKills bResult rResult\n",
      "0       62729   56672        9        4    16.0     9.0       1       0\n",
      "1       57702   56537        7        7    10.0     9.0       0       1\n",
      "2       70270   56355       15        2    22.0     8.0       1       0\n",
      "3       58612   63119        4        7    10.0    21.0       0       1\n",
      "4       60269   48947        8        4    22.0    10.0       1       0\n",
      "...       ...     ...      ...      ...     ...     ...     ...     ...\n",
      "7374    67279   82178        2        9     6.0    18.0       0       1\n",
      "7375    62572   65154        8       10     7.0    16.0       0       1\n",
      "7376    75817   85071        6       11    18.0    16.0       0       1\n",
      "7377    38449   52204        2       10     2.0    17.0       0       1\n",
      "7378    64218   69709        3        9    11.0    15.0       0       1\n",
      "\n",
      "[7379 rows x 8 columns]\n"
     ]
    }
   ],
   "source": [
    "print(datas)\n",
    "data = datas.loc[:,['goldblue','bTowers','bKills','bResult','rResult']]\n",
    "data.columns=['gold','tower','kill','blue_result','red_result']"
   ]
  },
  {
   "cell_type": "code",
   "execution_count": 13,
   "metadata": {},
   "outputs": [
    {
     "name": "stdout",
     "output_type": "stream",
     "text": [
      "       gold  tower  kill  blue_result  red_result\n",
      "0     62729      9    16            1           0\n",
      "1     57702      7    10            0           1\n",
      "2     70270     15    22            1           0\n",
      "3     58612      4    10            0           1\n",
      "4     60269      8    22            1           0\n",
      "...     ...    ...   ...          ...         ...\n",
      "7374  67279      2     6            0           1\n",
      "7375  62572      8     7            0           1\n",
      "7376  75817      6    18            0           1\n",
      "7377  38449      2     2            0           1\n",
      "7378  64218      3    11            0           1\n",
      "\n",
      "[7379 rows x 5 columns]\n"
     ]
    }
   ],
   "source": [
    "data =data.astype(int)\n",
    "print(data)"
   ]
  },
  {
   "cell_type": "code",
   "execution_count": 15,
   "metadata": {},
   "outputs": [],
   "source": [
    "recent_data = pd.read_csv('/home/ubuntu/gangmin/tsvt/video/win_loss_classifier/win_loss_variables_18~19.csv')"
   ]
  },
  {
   "cell_type": "code",
   "execution_count": 16,
   "metadata": {},
   "outputs": [
    {
     "data": {
      "text/html": [
       "<div>\n",
       "<style scoped>\n",
       "    .dataframe tbody tr th:only-of-type {\n",
       "        vertical-align: middle;\n",
       "    }\n",
       "\n",
       "    .dataframe tbody tr th {\n",
       "        vertical-align: top;\n",
       "    }\n",
       "\n",
       "    .dataframe thead th {\n",
       "        text-align: right;\n",
       "    }\n",
       "</style>\n",
       "<table border=\"1\" class=\"dataframe\">\n",
       "  <thead>\n",
       "    <tr style=\"text-align: right;\">\n",
       "      <th></th>\n",
       "      <th>gold</th>\n",
       "      <th>tower</th>\n",
       "      <th>kill</th>\n",
       "      <th>blue_result</th>\n",
       "      <th>red_result</th>\n",
       "    </tr>\n",
       "  </thead>\n",
       "  <tbody>\n",
       "    <tr>\n",
       "      <td>0</td>\n",
       "      <td>64781</td>\n",
       "      <td>3</td>\n",
       "      <td>8</td>\n",
       "      <td>0</td>\n",
       "      <td>1</td>\n",
       "    </tr>\n",
       "    <tr>\n",
       "      <td>1</td>\n",
       "      <td>70918</td>\n",
       "      <td>11</td>\n",
       "      <td>11</td>\n",
       "      <td>1</td>\n",
       "      <td>0</td>\n",
       "    </tr>\n",
       "    <tr>\n",
       "      <td>2</td>\n",
       "      <td>55810</td>\n",
       "      <td>8</td>\n",
       "      <td>10</td>\n",
       "      <td>1</td>\n",
       "      <td>0</td>\n",
       "    </tr>\n",
       "    <tr>\n",
       "      <td>3</td>\n",
       "      <td>63272</td>\n",
       "      <td>11</td>\n",
       "      <td>12</td>\n",
       "      <td>1</td>\n",
       "      <td>0</td>\n",
       "    </tr>\n",
       "    <tr>\n",
       "      <td>4</td>\n",
       "      <td>79741</td>\n",
       "      <td>2</td>\n",
       "      <td>8</td>\n",
       "      <td>0</td>\n",
       "      <td>1</td>\n",
       "    </tr>\n",
       "    <tr>\n",
       "      <td>...</td>\n",
       "      <td>...</td>\n",
       "      <td>...</td>\n",
       "      <td>...</td>\n",
       "      <td>...</td>\n",
       "      <td>...</td>\n",
       "    </tr>\n",
       "    <tr>\n",
       "      <td>5000</td>\n",
       "      <td>52031</td>\n",
       "      <td>2</td>\n",
       "      <td>4</td>\n",
       "      <td>0</td>\n",
       "      <td>1</td>\n",
       "    </tr>\n",
       "    <tr>\n",
       "      <td>5001</td>\n",
       "      <td>58664</td>\n",
       "      <td>9</td>\n",
       "      <td>12</td>\n",
       "      <td>1</td>\n",
       "      <td>0</td>\n",
       "    </tr>\n",
       "    <tr>\n",
       "      <td>5002</td>\n",
       "      <td>62085</td>\n",
       "      <td>7</td>\n",
       "      <td>22</td>\n",
       "      <td>1</td>\n",
       "      <td>0</td>\n",
       "    </tr>\n",
       "    <tr>\n",
       "      <td>5003</td>\n",
       "      <td>60196</td>\n",
       "      <td>9</td>\n",
       "      <td>13</td>\n",
       "      <td>1</td>\n",
       "      <td>0</td>\n",
       "    </tr>\n",
       "    <tr>\n",
       "      <td>5004</td>\n",
       "      <td>46693</td>\n",
       "      <td>9</td>\n",
       "      <td>18</td>\n",
       "      <td>1</td>\n",
       "      <td>0</td>\n",
       "    </tr>\n",
       "  </tbody>\n",
       "</table>\n",
       "<p>5005 rows × 5 columns</p>\n",
       "</div>"
      ],
      "text/plain": [
       "       gold  tower  kill  blue_result  red_result\n",
       "0     64781      3     8            0           1\n",
       "1     70918     11    11            1           0\n",
       "2     55810      8    10            1           0\n",
       "3     63272     11    12            1           0\n",
       "4     79741      2     8            0           1\n",
       "...     ...    ...   ...          ...         ...\n",
       "5000  52031      2     4            0           1\n",
       "5001  58664      9    12            1           0\n",
       "5002  62085      7    22            1           0\n",
       "5003  60196      9    13            1           0\n",
       "5004  46693      9    18            1           0\n",
       "\n",
       "[5005 rows x 5 columns]"
      ]
     },
     "execution_count": 16,
     "metadata": {},
     "output_type": "execute_result"
    }
   ],
   "source": [
    "recent_data = recent_data.drop(['split','Unnamed: 0'],axis=1)\n",
    "recent_data.columns = ['gold','tower','kill','blue_result','red_result']\n",
    "recent_data"
   ]
  },
  {
   "cell_type": "code",
   "execution_count": 17,
   "metadata": {},
   "outputs": [],
   "source": [
    "data = pd.concat([data,recent_data],ignore_index=True)"
   ]
  },
  {
   "cell_type": "code",
   "execution_count": 18,
   "metadata": {},
   "outputs": [],
   "source": [
    "#normalization\n",
    "goldSum = data['gold'].sum()+len(data)\n",
    "towerSum = data['tower'].sum()+len(data)\n",
    "killSum = data['kill'].sum()+len(data)\n",
    "\n",
    "data['gold'] = list(map(lambda x:(x+1)/goldSum,data['gold']))\n",
    "data['tower'] = list(map(lambda x:(x+1)/towerSum,data['tower']))\n",
    "data['kill'] = list(map(lambda x:(x+1)/killSum,data['kill']))\n"
   ]
  },
  {
   "cell_type": "code",
   "execution_count": 19,
   "metadata": {},
   "outputs": [
    {
     "data": {
      "text/html": [
       "<div>\n",
       "<style scoped>\n",
       "    .dataframe tbody tr th:only-of-type {\n",
       "        vertical-align: middle;\n",
       "    }\n",
       "\n",
       "    .dataframe tbody tr th {\n",
       "        vertical-align: top;\n",
       "    }\n",
       "\n",
       "    .dataframe thead th {\n",
       "        text-align: right;\n",
       "    }\n",
       "</style>\n",
       "<table border=\"1\" class=\"dataframe\">\n",
       "  <thead>\n",
       "    <tr style=\"text-align: right;\">\n",
       "      <th></th>\n",
       "      <th>gold</th>\n",
       "      <th>tower</th>\n",
       "      <th>kill</th>\n",
       "      <th>blue_result</th>\n",
       "      <th>red_result</th>\n",
       "    </tr>\n",
       "  </thead>\n",
       "  <tbody>\n",
       "    <tr>\n",
       "      <td>0</td>\n",
       "      <td>0.000081</td>\n",
       "      <td>0.000106</td>\n",
       "      <td>0.000101</td>\n",
       "      <td>1</td>\n",
       "      <td>0</td>\n",
       "    </tr>\n",
       "    <tr>\n",
       "      <td>1</td>\n",
       "      <td>0.000075</td>\n",
       "      <td>0.000085</td>\n",
       "      <td>0.000066</td>\n",
       "      <td>0</td>\n",
       "      <td>1</td>\n",
       "    </tr>\n",
       "    <tr>\n",
       "      <td>2</td>\n",
       "      <td>0.000091</td>\n",
       "      <td>0.000170</td>\n",
       "      <td>0.000137</td>\n",
       "      <td>1</td>\n",
       "      <td>0</td>\n",
       "    </tr>\n",
       "    <tr>\n",
       "      <td>3</td>\n",
       "      <td>0.000076</td>\n",
       "      <td>0.000053</td>\n",
       "      <td>0.000066</td>\n",
       "      <td>0</td>\n",
       "      <td>1</td>\n",
       "    </tr>\n",
       "    <tr>\n",
       "      <td>4</td>\n",
       "      <td>0.000078</td>\n",
       "      <td>0.000095</td>\n",
       "      <td>0.000137</td>\n",
       "      <td>1</td>\n",
       "      <td>0</td>\n",
       "    </tr>\n",
       "    <tr>\n",
       "      <td>...</td>\n",
       "      <td>...</td>\n",
       "      <td>...</td>\n",
       "      <td>...</td>\n",
       "      <td>...</td>\n",
       "      <td>...</td>\n",
       "    </tr>\n",
       "    <tr>\n",
       "      <td>12379</td>\n",
       "      <td>0.000067</td>\n",
       "      <td>0.000032</td>\n",
       "      <td>0.000030</td>\n",
       "      <td>0</td>\n",
       "      <td>1</td>\n",
       "    </tr>\n",
       "    <tr>\n",
       "      <td>12380</td>\n",
       "      <td>0.000076</td>\n",
       "      <td>0.000106</td>\n",
       "      <td>0.000078</td>\n",
       "      <td>1</td>\n",
       "      <td>0</td>\n",
       "    </tr>\n",
       "    <tr>\n",
       "      <td>12381</td>\n",
       "      <td>0.000081</td>\n",
       "      <td>0.000085</td>\n",
       "      <td>0.000137</td>\n",
       "      <td>1</td>\n",
       "      <td>0</td>\n",
       "    </tr>\n",
       "    <tr>\n",
       "      <td>12382</td>\n",
       "      <td>0.000078</td>\n",
       "      <td>0.000106</td>\n",
       "      <td>0.000084</td>\n",
       "      <td>1</td>\n",
       "      <td>0</td>\n",
       "    </tr>\n",
       "    <tr>\n",
       "      <td>12383</td>\n",
       "      <td>0.000061</td>\n",
       "      <td>0.000106</td>\n",
       "      <td>0.000113</td>\n",
       "      <td>1</td>\n",
       "      <td>0</td>\n",
       "    </tr>\n",
       "  </tbody>\n",
       "</table>\n",
       "<p>12384 rows × 5 columns</p>\n",
       "</div>"
      ],
      "text/plain": [
       "           gold     tower      kill  blue_result  red_result\n",
       "0      0.000081  0.000106  0.000101            1           0\n",
       "1      0.000075  0.000085  0.000066            0           1\n",
       "2      0.000091  0.000170  0.000137            1           0\n",
       "3      0.000076  0.000053  0.000066            0           1\n",
       "4      0.000078  0.000095  0.000137            1           0\n",
       "...         ...       ...       ...          ...         ...\n",
       "12379  0.000067  0.000032  0.000030            0           1\n",
       "12380  0.000076  0.000106  0.000078            1           0\n",
       "12381  0.000081  0.000085  0.000137            1           0\n",
       "12382  0.000078  0.000106  0.000084            1           0\n",
       "12383  0.000061  0.000106  0.000113            1           0\n",
       "\n",
       "[12384 rows x 5 columns]"
      ]
     },
     "execution_count": 19,
     "metadata": {},
     "output_type": "execute_result"
    }
   ],
   "source": [
    "data"
   ]
  },
  {
   "cell_type": "code",
   "execution_count": 20,
   "metadata": {},
   "outputs": [],
   "source": [
    "data.to_csv(\"/home/ubuntu/gangmin/tsvt/video/win_loss_classifier/win_loss_variables.csv\", mode='w')"
   ]
  },
  {
   "cell_type": "code",
   "execution_count": null,
   "metadata": {},
   "outputs": [],
   "source": []
  }
 ],
 "metadata": {
  "kernelspec": {
   "display_name": "Python 3",
   "language": "python",
   "name": "python3"
  },
  "language_info": {
   "codemirror_mode": {
    "name": "ipython",
    "version": 3
   },
   "file_extension": ".py",
   "mimetype": "text/x-python",
   "name": "python",
   "nbconvert_exporter": "python",
   "pygments_lexer": "ipython3",
   "version": "3.6.9"
  }
 },
 "nbformat": 4,
 "nbformat_minor": 2
}
