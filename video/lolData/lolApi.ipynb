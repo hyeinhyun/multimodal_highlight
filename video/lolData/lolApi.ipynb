{
 "cells": [
  {
   "cell_type": "code",
   "execution_count": 56,
   "metadata": {},
   "outputs": [],
   "source": [
    "import pandas as pd\n",
    "import numpy as np"
   ]
  },
  {
   "cell_type": "code",
   "execution_count": 57,
   "metadata": {},
   "outputs": [],
   "source": [
    "import os\n",
    "path = '/home/ubuntu/gangmin/lol/leagueoflegends'\n",
    "file_list = os.listdir(path)"
   ]
  },
  {
   "cell_type": "code",
   "execution_count": 58,
   "metadata": {},
   "outputs": [
    {
     "name": "stdout",
     "output_type": "stream",
     "text": [
      "@@@@@@@@@@@@@@@@@@@@@@@@@@@@@@@@@@@@@@@@@@@@@@@@@@\n",
      "gold.csv\n",
      "Index(['Address', 'Type', 'min_1', 'min_2', 'min_3', 'min_4', 'min_5', 'min_6',\n",
      "       'min_7', 'min_8', 'min_9', 'min_10', 'min_11', 'min_12', 'min_13',\n",
      "       'min_14', 'min_15', 'min_16', 'min_17', 'min_18', 'min_19', 'min_20',\n",
      "       'min_21', 'min_22', 'min_23', 'min_24', 'min_25', 'min_26', 'min_27',\n",
      "       'min_28', 'min_29', 'min_30', 'min_31', 'min_32', 'min_33', 'min_34',\n",
      "       'min_35', 'min_36', 'min_37', 'min_38', 'min_39', 'min_40', 'min_41',\n",
      "       'min_42', 'min_43', 'min_44', 'min_45', 'min_46', 'min_47', 'min_48',\n",
      "       'min_49', 'min_50', 'min_51', 'min_52', 'min_53', 'min_54', 'min_55',\n",
      "       'min_56', 'min_57', 'min_58', 'min_59', 'min_60', 'min_61', 'min_62',\n",
      "       'min_63', 'min_64', 'min_65', 'min_66', 'min_67', 'min_68', 'min_69',\n",
      "       'min_70', 'min_71', 'min_72', 'min_73', 'min_74', 'min_75', 'min_76',\n",
      "       'min_77', 'min_78', 'min_79', 'min_80', 'min_81', 'min_82', 'min_83',\n",
      "       'min_84', 'min_85', 'min_86', 'min_87', 'min_88', 'min_89', 'min_90',\n",
      "       'min_91', 'min_92', 'min_93', 'min_94', 'min_95'],\n",
      "      dtype='object')\n",
      "(99060, 97)\n",
      "@@@@@@@@@@@@@@@@@@@@@@@@@@@@@@@@@@@@@@@@@@@@@@@@@@\n",
      "_columns.csv\n",
      "Index(['ColumnName', 'ColumnDescription'], dtype='object')\n",
      "(57, 2)\n",
      "@@@@@@@@@@@@@@@@@@@@@@@@@@@@@@@@@@@@@@@@@@@@@@@@@@\n",
      "kills.csv\n",
      "Index(['Address', 'Team', 'Time', 'Victim', 'Killer', 'Assist_1', 'Assist_2',\n",
      "       'Assist_3', 'Assist_4', 'x_pos', 'y_pos'],\n",
      "      dtype='object')\n",
      "(191069, 11)\n",
      "@@@@@@@@@@@@@@@@@@@@@@@@@@@@@@@@@@@@@@@@@@@@@@@@@@\n",
      "monsters.csv\n",
      "Index(['Address', 'Team', 'Time', 'Type'], dtype='object')\n",
      "(44248, 4)\n",
      "@@@@@@@@@@@@@@@@@@@@@@@@@@@@@@@@@@@@@@@@@@@@@@@@@@\n",
      "structures.csv\n",
      "Index(['Address', 'Team', 'Time', 'Lane', 'Type'], dtype='object')\n",
      "(121386, 5)\n",
      "@@@@@@@@@@@@@@@@@@@@@@@@@@@@@@@@@@@@@@@@@@@@@@@@@@\n",
      "matchinfo.csv\n",
      "Index(['League', 'Year', 'Season', 'Type', 'blueTeamTag', 'bResult', 'rResult',\n",
      "       'redTeamTag', 'gamelength', 'blueTop', 'blueTopChamp', 'blueJungle',\n",
      "       'blueJungleChamp', 'blueMiddle', 'blueMiddleChamp', 'blueADC',\n",
      "       'blueADCChamp', 'blueSupport', 'blueSupportChamp', 'redTop',\n",
      "       'redTopChamp', 'redJungle', 'redJungleChamp', 'redMiddle',\n",
      "       'redMiddleChamp', 'redADC', 'redADCChamp', 'redSupport',\n",
      "       'redSupportChamp', 'Address'],\n",
      "      dtype='object')\n",
      "(7620, 30)\n",
      "@@@@@@@@@@@@@@@@@@@@@@@@@@@@@@@@@@@@@@@@@@@@@@@@@@\n",
      "LeagueofLegends.csv\n",
      "Index(['League', 'Year', 'Season', 'Type', 'blueTeamTag', 'bResult', 'rResult',\n",
      "       'redTeamTag', 'gamelength', 'golddiff', 'goldblue', 'bKills', 'bTowers',\n",
      "       'bInhibs', 'bDragons', 'bBarons', 'bHeralds', 'goldred', 'rKills',\n",
      "       'rTowers', 'rInhibs', 'rDragons', 'rBarons', 'rHeralds', 'blueTop',\n",
      "       'blueTopChamp', 'goldblueTop', 'blueJungle', 'blueJungleChamp',\n",
      "       'goldblueJungle', 'blueMiddle', 'blueMiddleChamp', 'goldblueMiddle',\n",
      "       'blueADC', 'blueADCChamp', 'goldblueADC', 'blueSupport',\n",
      "       'blueSupportChamp', 'goldblueSupport', 'blueBans', 'redTop',\n",
      "       'redTopChamp', 'goldredTop', 'redJungle', 'redJungleChamp',\n",
      "       'goldredJungle', 'redMiddle', 'redMiddleChamp', 'goldredMiddle',\n",
      "       'redADC', 'redADCChamp', 'goldredADC', 'redSupport', 'redSupportChamp',\n",
      "       'goldredSupport', 'redBans', 'Address'],\n",
      "      dtype='object')\n",
      "(7620, 57)\n",
      "@@@@@@@@@@@@@@@@@@@@@@@@@@@@@@@@@@@@@@@@@@@@@@@@@@\n",
      "bans.csv\n",
      "Index(['Address', 'Team', 'ban_1', 'ban_2', 'ban_3', 'ban_4', 'ban_5'], dtype='object')\n",
      "(15240, 7)\n"
     ]
    }
   ],
   "source": [
    "for fname in file_list:\n",
    "    data = pd.read_csv(\"~/gangmin/lol/leagueoflegends/{0}\".format(fname))\n",
    "    print(\"@@@@@@@@@@@@@@@@@@@@@@@@@@@@@@@@@@@@@@@@@@@@@@@@@@\")\n",
    "    print(fname)\n",
    "    print(data.columns)\n",
    "    print(data.shape)\n",
    "    \n"
   ]
  },
  {
   "cell_type": "code",
   "execution_count": 89,
   "metadata": {},
   "outputs": [
    {
     "data": {
      "text/plain": [
       "' List of minutes that Blue Team destroyed a tower and Tower Location '"
      ]
     },
     "execution_count": 89,
     "metadata": {},
     "output_type": "execute_result"
    }
   ],
   "source": [
    "_columns = pd.read_csv('/home/ubuntu/gangmin/lol/leagueoflegends/_columns.csv')\n",
    "_columns['ColumnDescription'][13]"
   ]
  },
  {
   "cell_type": "code",
   "execution_count": 90,
   "metadata": {},
   "outputs": [],
   "source": [
    "leagueoflegends = pd.read_csv('/home/ubuntu/gangmin/lol/leagueoflegends/LeagueofLegends.csv')\n",
    "matchinfo = pd.read_csv('/home/ubuntu/gangmin/lol/leagueoflegends/matchinfo.csv')"
   ]
  },
  {
   "cell_type": "code",
   "execution_count": 91,
   "metadata": {},
   "outputs": [],
   "source": [
    "columns = ['goldblue','goldred','bTowers','rTowers','bKills','rKills','bResult','rResult']"
   ]
  },
  {
   "cell_type": "code",
   "execution_count": 92,
   "metadata": {},
   "outputs": [],
   "source": [
    "datas = leagueoflegends.loc[:,columns]"
   ]
  },
  {
   "cell_type": "code",
   "execution_count": 93,
   "metadata": {},
   "outputs": [],
   "source": [
    "#gold \n",
    "datas['goldblue']=list(map(lambda x: x[1:-1].split(\",\")[-1],datas['goldblue']))\n",
    "datas['goldred']=list(map(lambda x: x[1:-1].split(\",\")[-1],datas['goldred']))"
   ]
  },
  {
   "cell_type": "code",
   "execution_count": 94,
   "metadata": {
    "scrolled": true
   },
   "outputs": [],
   "source": [
    "#kills\n",
    "datas['bKills'] = list(map(lambda x: x[1:-1].count('[')/2,datas['bKills']))\n",
    "datas['rKills'] = list(map(lambda x: x[1:-1].count('[')/2,datas['rKills']))"
   ]
  },
  {
   "cell_type": "code",
   "execution_count": 95,
   "metadata": {},
   "outputs": [
    {
     "data": {
      "text/plain": [
       "\"[[27.542, 'MID_LANE', 'BASE_TURRET'], [39.269, 'MID_LANE', 'NEXUS_TURRET'], [33.583, 'BOT_LANE', 'INNER_TURRET'], [23.038, 'TOP_LANE', 'INNER_TURRET'], [16.556, 'BOT_LANE', 'OUTER_TURRET'], [15.014, 'MID_LANE', 'OUTER_TURRET'], [39.376, 'MID_LANE', 'NEXUS_TURRET'], [15.217, 'MID_LANE', 'INNER_TURRET'], [17.856, 'TOP_LANE', 'OUTER_TURRET']]\""
      ]
     },
     "execution_count": 95,
     "metadata": {},
     "output_type": "execute_result"
    }
   ],
   "source": [
    "datas['bTowers'][0]"
   ]
  },
  {
   "cell_type": "code",
   "execution_count": 96,
   "metadata": {},
   "outputs": [],
   "source": [
    "#Towers\n",
    "datas['bTowers'] = list(map(lambda x: x[1:-1].count('['),datas['bTowers']))\n",
    "datas['rTowers'] = list(map(lambda x: x[1:-1].count('['),datas['rTowers']))"
   ]
  },
  {
   "cell_type": "code",
   "execution_count": 97,
   "metadata": {},
   "outputs": [
    {
     "name": "stdout",
     "output_type": "stream",
     "text": [
      "     goldblue goldred  bTowers  rTowers  bKills  rKills  bResult  rResult\n",
      "0       62729   56672        9        4    16.0     9.0        1        0\n",
      "1       57702   56537        7        7    10.0     9.0        0        1\n",
      "2       70270   56355       15        2    22.0     8.0        1        0\n",
      "3       58612   63119        4        7    10.0    21.0        0        1\n",
      "4       60269   48947        8        4    22.0    10.0        1        0\n",
      "...       ...     ...      ...      ...     ...     ...      ...      ...\n",
      "7615    57580   65618        4        9     7.0    16.0        0        1\n",
      "7616    69781   70498        5       10     8.0    18.0        0        1\n",
      "7617    34602   52338        0       11     5.0    13.0        0        1\n",
      "7618    68729   57221        9        3    16.0     2.0        1        0\n",
      "7619    77275   82598        4       11    12.0    23.0        0        1\n",
      "\n",
      "[7620 rows x 8 columns]\n"
     ]
    }
   ],
   "source": [
    "print(datas)\n",
    "data = datas.loc[:,['goldblue','bTowers','bKills','bResult','rResult']]\n",
    "data.columns=['gold','tower','kill','blue_result','red_result']"
   ]
  },
  {
   "cell_type": "code",
   "execution_count": 98,
   "metadata": {},
   "outputs": [
    {
     "name": "stdout",
     "output_type": "stream",
     "text": [
      "       gold  tower  kill  blue_result  red_result\n",
      "0     62729      9    16            1           0\n",
      "1     57702      7    10            0           1\n",
      "2     70270     15    22            1           0\n",
      "3     58612      4    10            0           1\n",
      "4     60269      8    22            1           0\n",
      "...     ...    ...   ...          ...         ...\n",
      "7615  57580      4     7            0           1\n",
      "7616  69781      5     8            0           1\n",
      "7617  34602      0     5            0           1\n",
      "7618  68729      9    16            1           0\n",
      "7619  77275      4    12            0           1\n",
      "\n",
      "[7620 rows x 5 columns]\n"
     ]
    }
   ],
   "source": [
    "data =data.astype(int)\n",
    "print(data)"
   ]
  },
  {
   "cell_type": "code",
   "execution_count": 99,
   "metadata": {},
   "outputs": [],
   "source": [
    "#normalization\n",
    "goldSum = data['gold'].sum()+len(data)\n",
    "towerSum = data['tower'].sum()+len(data)\n",
    "killSum = data['kill'].sum()+len(data)\n",
    "\n",
    "data['gold'] = list(map(lambda x:(x+1)/goldSum,data['gold']))\n",
    "data['tower'] = list(map(lambda x:(x+1)/towerSum,data['tower']))\n",
    "data['kill'] = list(map(lambda x:(x+1)/killSum,data['kill']))\n"
   ]
  },
  {
   "cell_type": "code",
   "execution_count": 100,
   "metadata": {},
   "outputs": [
    {
     "data": {
      "text/html": [
       "<div>\n",
       "<style scoped>\n",
       "    .dataframe tbody tr th:only-of-type {\n",
       "        vertical-align: middle;\n",
       "    }\n",
       "\n",
       "    .dataframe tbody tr th {\n",
       "        vertical-align: top;\n",
       "    }\n",
       "\n",
       "    .dataframe thead th {\n",
       "        text-align: right;\n",
       "    }\n",
       "</style>\n",
       "<table border=\"1\" class=\"dataframe\">\n",
       "  <thead>\n",
       "    <tr style=\"text-align: right;\">\n",
       "      <th></th>\n",
       "      <th>gold</th>\n",
       "      <th>tower</th>\n",
       "      <th>kill</th>\n",
       "      <th>blue_result</th>\n",
       "      <th>red_result</th>\n",
       "    </tr>\n",
       "  </thead>\n",
       "  <tbody>\n",
       "    <tr>\n",
       "      <td>0</td>\n",
       "      <td>0.000131</td>\n",
       "      <td>0.000169</td>\n",
       "      <td>0.000160</td>\n",
       "      <td>1</td>\n",
       "      <td>0</td>\n",
       "    </tr>\n",
       "    <tr>\n",
       "      <td>1</td>\n",
       "      <td>0.000120</td>\n",
       "      <td>0.000136</td>\n",
       "      <td>0.000104</td>\n",
       "      <td>0</td>\n",
       "      <td>1</td>\n",
       "    </tr>\n",
       "    <tr>\n",
       "      <td>2</td>\n",
       "      <td>0.000147</td>\n",
       "      <td>0.000271</td>\n",
       "      <td>0.000217</td>\n",
       "      <td>1</td>\n",
       "      <td>0</td>\n",
       "    </tr>\n",
       "    <tr>\n",
       "      <td>3</td>\n",
       "      <td>0.000122</td>\n",
       "      <td>0.000085</td>\n",
       "      <td>0.000104</td>\n",
       "      <td>0</td>\n",
       "      <td>1</td>\n",
       "    </tr>\n",
       "    <tr>\n",
       "      <td>4</td>\n",
       "      <td>0.000126</td>\n",
       "      <td>0.000152</td>\n",
       "      <td>0.000217</td>\n",
       "      <td>1</td>\n",
       "      <td>0</td>\n",
       "    </tr>\n",
       "    <tr>\n",
       "      <td>...</td>\n",
       "      <td>...</td>\n",
       "      <td>...</td>\n",
       "      <td>...</td>\n",
       "      <td>...</td>\n",
       "      <td>...</td>\n",
       "    </tr>\n",
       "    <tr>\n",
       "      <td>7615</td>\n",
       "      <td>0.000120</td>\n",
       "      <td>0.000085</td>\n",
       "      <td>0.000076</td>\n",
       "      <td>0</td>\n",
       "      <td>1</td>\n",
       "    </tr>\n",
       "    <tr>\n",
       "      <td>7616</td>\n",
       "      <td>0.000146</td>\n",
       "      <td>0.000102</td>\n",
       "      <td>0.000085</td>\n",
       "      <td>0</td>\n",
       "      <td>1</td>\n",
       "    </tr>\n",
       "    <tr>\n",
       "      <td>7617</td>\n",
       "      <td>0.000072</td>\n",
       "      <td>0.000017</td>\n",
       "      <td>0.000057</td>\n",
       "      <td>0</td>\n",
       "      <td>1</td>\n",
       "    </tr>\n",
       "    <tr>\n",
       "      <td>7618</td>\n",
       "      <td>0.000143</td>\n",
       "      <td>0.000169</td>\n",
       "      <td>0.000160</td>\n",
       "      <td>1</td>\n",
       "      <td>0</td>\n",
       "    </tr>\n",
       "    <tr>\n",
       "      <td>7619</td>\n",
       "      <td>0.000161</td>\n",
       "      <td>0.000085</td>\n",
       "      <td>0.000123</td>\n",
       "      <td>0</td>\n",
       "      <td>1</td>\n",
       "    </tr>\n",
       "  </tbody>\n",
       "</table>\n",
       "<p>7620 rows × 5 columns</p>\n",
       "</div>"
      ],
      "text/plain": [
       "          gold     tower      kill  blue_result  red_result\n",
       "0     0.000131  0.000169  0.000160            1           0\n",
       "1     0.000120  0.000136  0.000104            0           1\n",
       "2     0.000147  0.000271  0.000217            1           0\n",
       "3     0.000122  0.000085  0.000104            0           1\n",
       "4     0.000126  0.000152  0.000217            1           0\n",
       "...        ...       ...       ...          ...         ...\n",
       "7615  0.000120  0.000085  0.000076            0           1\n",
       "7616  0.000146  0.000102  0.000085            0           1\n",
       "7617  0.000072  0.000017  0.000057            0           1\n",
       "7618  0.000143  0.000169  0.000160            1           0\n",
       "7619  0.000161  0.000085  0.000123            0           1\n",
       "\n",
       "[7620 rows x 5 columns]"
      ]
     },
     "execution_count": 100,
     "metadata": {},
     "output_type": "execute_result"
    }
   ],
   "source": [
    "data"
   ]
  },
  {
   "cell_type": "code",
   "execution_count": 101,
   "metadata": {},
   "outputs": [],
   "source": [
    "data.to_csv(\"/home/ubuntu/gangmin/lol/win_loss_variables.csv\", mode='w')"
   ]
  },
  {
   "cell_type": "code",
   "execution_count": null,
   "metadata": {},
   "outputs": [],
   "source": []
  }
 ],
 "metadata": {
  "kernelspec": {
   "display_name": "Python 3",
   "language": "python",
   "name": "python3"
  },
  "language_info": {
   "codemirror_mode": {
    "name": "ipython",
    "version": 3
   },
   "file_extension": ".py",
   "mimetype": "text/x-python",
   "name": "python",
   "nbconvert_exporter": "python",
   "pygments_lexer": "ipython3",
   "version": "3.6.9"
  }
 },
 "nbformat": 4,
 "nbformat_minor": 2
}
