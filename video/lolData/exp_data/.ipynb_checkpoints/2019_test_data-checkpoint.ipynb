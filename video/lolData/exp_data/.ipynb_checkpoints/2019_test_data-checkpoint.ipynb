{
 "cells": [
  {
   "cell_type": "markdown",
   "metadata": {},
   "source": [
    "# 경기 아이디 추출"
   ]
  },
  {
   "cell_type": "code",
   "execution_count": 5,
   "metadata": {},
   "outputs": [],
   "source": [
    "key = '0TvQnueqKa5mxJntVWt0w4LpLfEkrV1Ta8rQBb9Z'"
   ]
  },
  {
   "cell_type": "code",
   "execution_count": 6,
   "metadata": {},
   "outputs": [
    {
     "data": {
      "text/plain": [
       "{'data': {'leagues': [{'id': '100695891328981122',\n",
       "    'slug': 'european-masters',\n",
       "    'name': 'European Masters',\n",
       "    'region': '유럽',\n",
       "    'image': 'http://static.lolesports.com/leagues/1585044513499_EM_BUG_2020%20(1).png',\n",
       "    'priority': 215},\n",
       "   {'id': '101382741235120470',\n",
       "    'slug': 'lla',\n",
       "    'name': 'Liga Latinoamérica',\n",
       "    'region': '라틴 아메리카',\n",
       "    'image': 'https://lolstatic-a.akamaihd.net/esports-assets/production/league/lla-3npx8e46.png',\n",
       "    'priority': 209},\n",
       "   {'id': '104207827168893622',\n",
       "    'slug': 'midseason-cup',\n",
       "    'name': 'Mid-Season Cup',\n",
       "    'region': '국제 대회',\n",
       "    'image': 'http://static.lolesports.com/leagues/1590701495142_midseason-cup.png',\n",
       "    'priority': 216},\n",
       "   {'id': '104207832853093047',\n",
       "    'slug': 'midseason-streamathon',\n",
       "    'name': 'Mid-Season Streamathon',\n",
       "    'region': '국제 대회',\n",
       "    'image': 'http://static.lolesports.com/leagues/1590701509841_mid.png',\n",
       "    'priority': 217},\n",
       "   {'id': '98767975604431411',\n",
       "    'slug': 'worlds',\n",
       "    'name': '월드 챔피언십',\n",
       "    'region': '국제 대회',\n",
       "    'image': 'https://lolstatic-a.akamaihd.net/esports-assets/production/league/worlds-3om032jn.png',\n",
       "    'priority': 211},\n",
       "   {'id': '98767991295297326',\n",
       "    'slug': 'all-star',\n",
       "    'name': '올스타전',\n",
       "    'region': '국제 대회',\n",
       "    'image': 'https://lolstatic-a.akamaihd.net/esports-assets/production/league/all-star-dtf4kf16.png',\n",
       "    'priority': 213},\n",
       "   {'id': '98767991299243165',\n",
       "    'slug': 'lcs',\n",
       "    'name': 'LCS',\n",
       "    'region': '북미',\n",
       "    'image': 'https://lolstatic-a.akamaihd.net/esports-assets/production/league/lcs-79qe3e0y.png',\n",
       "    'priority': 203},\n",
       "   {'id': '98767991302996019',\n",
       "    'slug': 'lec',\n",
       "    'name': 'LEC',\n",
       "    'region': '유럽',\n",
       "    'image': 'https://lolstatic-a.akamaihd.net/esports-assets/production/league/eu-lcs-dgpu3cuv.png',\n",
       "    'priority': 202},\n",
       "   {'id': '98767991310872058',\n",
       "    'slug': 'lck',\n",
       "    'name': 'LCK',\n",
       "    'region': '한국',\n",
       "    'image': 'https://lolstatic-a.akamaihd.net/esports-assets/production/league/lck-7epeu9ot.png',\n",
       "    'priority': 1},\n",
       "   {'id': '98767991314006698',\n",
       "    'slug': 'lpl',\n",
       "    'name': 'LPL',\n",
       "    'region': '중국',\n",
       "    'image': 'https://lolstatic-a.akamaihd.net/esports-assets/production/league/lpl-china-6ygsd4c8.png',\n",
       "    'priority': 201},\n",
       "   {'id': '98767991325878492',\n",
       "    'slug': 'msi',\n",
       "    'name': 'MSI',\n",
       "    'region': '국제 대회',\n",
       "    'image': 'https://lolstatic-a.akamaihd.net/esports-assets/production/league/msi-iu1t0cjd.png',\n",
       "    'priority': 212},\n",
       "   {'id': '98767991331560952',\n",
       "    'slug': 'oce-opl',\n",
       "    'name': 'OPL',\n",
       "    'region': '오세아니아',\n",
       "    'image': 'https://lolstatic-a.akamaihd.net/esports-assets/production/league/oce-opl-e0qfb3l8.png',\n",
       "    'priority': 210},\n",
       "   {'id': '98767991332355509',\n",
       "    'slug': 'cblol-brazil',\n",
       "    'name': 'CBLOL',\n",
       "    'region': '브라질',\n",
       "    'image': 'https://lolstatic-a.akamaihd.net/esports-assets/production/league/cblol-brazil-46x5zjmg.png',\n",
       "    'priority': 208},\n",
       "   {'id': '98767991343597634',\n",
       "    'slug': 'turkiye-sampiyonluk-ligi',\n",
       "    'name': 'TCL',\n",
       "    'region': '터키',\n",
       "    'image': 'https://lolstatic-a.akamaihd.net/esports-assets/production/league/turkiye-sampiyonluk-ligi-8r9ofb9.png',\n",
       "    'priority': 207},\n",
       "   {'id': '98767991349978712',\n",
       "    'slug': 'ljl-japan',\n",
       "    'name': 'LJL',\n",
       "    'region': '일본',\n",
       "    'image': 'https://lolstatic-a.akamaihd.net/esports-assets/production/league/ljl-japan-j27k8oms.png',\n",
       "    'priority': 206},\n",
       "   {'id': '99332500638116286',\n",
       "    'slug': 'lcs-academy',\n",
       "    'name': '북미 아카데미',\n",
       "    'region': '북미',\n",
       "    'image': 'https://lolstatic-a.akamaihd.net/esports-assets/production/league/lcs-academy-4o8goq8n.png',\n",
       "    'priority': 205}]}}"
      ]
     },
     "execution_count": 6,
     "metadata": {},
     "output_type": "execute_result"
    }
   ],
   "source": [
    "import requests\n",
    "header = {'x-api-key':key}\n",
    "\n",
    "leagues = 'https://esports-api.lolesports.com/persisted/gw/getLeagues?hl=ko-KR'\n",
    "r = requests.get(leagues,headers = header)\n",
    "data = r.json()\n",
    "data"
   ]
  },
  {
   "cell_type": "code",
   "execution_count": 7,
   "metadata": {},
   "outputs": [
    {
     "data": {
      "text/plain": [
       "{'data': {'leagues': [{'tournaments': [{'id': '100783238182986407',\n",
       "      'slug': 'world_championship_2018',\n",
       "      'startDate': '2018-10-01',\n",
       "      'endDate': '2018-11-03'},\n",
       "     {'id': '102804906674705057',\n",
       "      'slug': 'world_championship_2019',\n",
       "      'startDate': '2019-10-02',\n",
       "      'endDate': '2019-11-10'},\n",
       "     {'id': '98767991971246908',\n",
       "      'slug': 'world_championship_2017',\n",
       "      'startDate': '2017-09-22',\n",
       "      'endDate': '2017-11-04'}]}]}}"
      ]
     },
     "execution_count": 7,
     "metadata": {},
     "output_type": "execute_result"
    }
   ],
   "source": [
    "\n",
    "match_list_18 = []\n",
    "header = {'x-api-key':key}\n",
    "param = {'leagueId':98767975604431411}\n",
    "\n",
    "leagues = 'https://esports-api.lolesports.com/persisted/gw/getTournamentsForLeague?hl=ko-KR'\n",
    "r = requests.get(leagues,headers = header,params = param)\n",
    "data = r.json()\n",
    "data"
   ]
  },
  {
   "cell_type": "code",
   "execution_count": 8,
   "metadata": {},
   "outputs": [],
   "source": [
    "#get events(all match in tournament)\n",
    "header = {'x-api-key':key}\n",
    "param = {'tournamentId':102804906674705057}\n",
    "\n",
    "leagues = 'https://esports-api.lolesports.com/persisted/gw/getCompletedEvents?hl=ko-KR'\n",
    "r = requests.get(leagues,headers = header,params = param)\n",
    "data = r.json()"
   ]
  },
  {
   "cell_type": "code",
   "execution_count": 9,
   "metadata": {},
   "outputs": [],
   "source": [
    "#world championship games list\n",
    "game_list = []"
   ]
  },
  {
   "cell_type": "code",
   "execution_count": 10,
   "metadata": {},
   "outputs": [],
   "source": [
    "for i in data['data']['schedule']['events']:\n",
    "    temp = []\n",
    "    temp.append(i['startTime'])\n",
    "    for j in i['games']:\n",
    "        if len(j['vods']) is not 0:\n",
    "            temp.append(j['id'])\n",
    "    game_list.append(temp)"
   ]
  },
  {
   "cell_type": "code",
   "execution_count": 11,
   "metadata": {
    "scrolled": false
   },
   "outputs": [],
   "source": [
    "#game_list"
   ]
  },
  {
   "cell_type": "code",
   "execution_count": 12,
   "metadata": {},
   "outputs": [],
   "source": [
    "multi = []\n",
    "single = []"
   ]
  },
  {
   "cell_type": "code",
   "execution_count": 13,
   "metadata": {},
   "outputs": [],
   "source": [
    "for i in range(len(game_list)):\n",
    "    if len(game_list[i])>2:\n",
    "        multi.append(game_list[i])\n",
    "    else:\n",
    "        single.append(game_list[i])"
   ]
  },
  {
   "cell_type": "code",
   "execution_count": 13,
   "metadata": {},
   "outputs": [
    {
     "data": {
      "text/plain": [
       "['2019-10-04T17:00:00Z', '102905919916854804']"
      ]
     },
     "execution_count": 13,
     "metadata": {},
     "output_type": "execute_result"
    }
   ],
   "source": [
    "single.pop(19)"
   ]
  },
  {
   "cell_type": "markdown",
   "metadata": {},
   "source": [
    "# 경기 기록 추출"
   ]
  },
  {
   "cell_type": "markdown",
   "metadata": {},
   "source": [
    "## single game 추출"
   ]
  },
  {
   "cell_type": "code",
   "execution_count": 23,
   "metadata": {},
   "outputs": [],
   "source": [
    "import pandas as pd\n",
    "import numpy as np\n",
    "import time"
   ]
  },
  {
   "cell_type": "code",
   "execution_count": 24,
   "metadata": {},
   "outputs": [],
   "source": [
    "gamedata = {}"
   ]
  },
  {
   "cell_type": "code",
   "execution_count": 16,
   "metadata": {},
   "outputs": [],
   "source": [
    "single = list(map(lambda x : [x[0][:-1]+'.00Z',x[1]],single))"
   ]
  },
  {
   "cell_type": "code",
   "execution_count": 17,
   "metadata": {},
   "outputs": [
    {
     "data": {
      "text/plain": [
       "['2019-10-20T17:00:00.00Z', '102844401152857762']"
      ]
     },
     "execution_count": 17,
     "metadata": {},
     "output_type": "execute_result"
    }
   ],
   "source": [
    "single[-1]"
   ]
  },
  {
   "cell_type": "code",
   "execution_count": 305,
   "metadata": {
    "scrolled": false
   },
   "outputs": [
    {
     "name": "stdout",
     "output_type": "stream",
     "text": [
      "finish\n",
      "finish\n",
      "finish\n",
      "finish\n",
      "finish\n",
      "finish\n",
      "finish\n",
      "finish\n",
      "finish\n",
      "finish\n",
      "finish\n",
      "finish\n",
      "finish\n",
      "finish\n",
      "finish\n",
      "finish\n",
      "finish\n",
      "finish\n",
      "finish\n",
      "finish\n",
      "finish\n",
      "finish\n",
      "finish\n",
      "finish\n",
      "finish\n",
      "finish\n",
      "finish\n",
      "finish\n",
      "finish\n",
      "finish\n",
      "finish\n",
      "finish\n",
      "finish\n",
      "finish\n",
      "finish\n",
      "finish\n",
      "finish\n",
      "finish\n",
      "finish\n",
      "finish\n",
      "finish\n",
      "finish\n",
      "finish\n",
      "finish\n",
      "finish\n",
      "finish\n",
      "finish\n",
      "finish\n",
      "finish\n",
      "finish\n",
      "finish\n",
      "finish\n",
      "finish\n",
      "finish\n",
      "finish\n",
      "finish\n",
      "finish\n",
      "finish\n",
      "finish\n",
      "finish\n",
      "finish\n",
      "finish\n",
      "finish\n",
      "finish\n",
      "finish\n",
      "finish\n",
      "finish\n",
      "finish\n",
      "finish\n",
      "finish\n",
      "finish\n",
      "finish\n",
      "finish\n",
      "finish\n",
      "finish\n",
      "finish\n"
     ]
    }
   ],
   "source": [
    "#get window\n",
    "import datetime\n",
    "header = {'x-api-key':key}\n",
    "\n",
    "\n",
    "\n",
    "for single_game in single:\n",
    "    \n",
    "    timeframe = pd.DataFrame(np.zeros((0,2)))\n",
    "    timeframe.columns = ['Time','frame']\n",
    "    \n",
    "    first = 0\n",
    "    index = 0\n",
    "    seconds = 0\n",
    "    last = 0\n",
    "    dead = 0\n",
    "    while dead == 0 :\n",
    "        \n",
    "        try:\n",
    "            if first == 0:\n",
    "                startT = single_game[0]\n",
    "                timeT = datetime.datetime.strptime(startT, \"%Y-%m-%dT%H:%M:%S.%fZ\")\n",
    "                timeT = timeT - datetime.timedelta(hours=1)\n",
    "                first +=1\n",
    "            else:\n",
    "                if seconds == 0 :\n",
    "                    timeT = timeT + datetime.timedelta(minutes=1)\n",
    "                else:\n",
    "                    timeT = timeT + datetime.timedelta(seconds=10)\n",
    "            param = {'id':single_game[1],'startingTime':str(timeT.strftime(\"%Y-%m-%dT%H:%M:%S.%fZ\"))}\n",
    "            \n",
    "            leagues = 'https://feed.lolesports.com/livestats/v1/window/'+str(param['id'])\n",
    "            r = requests.get(leagues,headers = header,params = param)\n",
    "            data = r.json()\n",
    "            for i in range(len(data['frames'])):\n",
    "                if len(data['frames'][i]['rfc460Timestamp']) == 20:\n",
    "                    data['frames'][i]['rfc460Timestamp'] = data['frames'][i]['rfc460Timestamp'][:-1]+'.00Z'\n",
    "\n",
    "                tempTime = datetime.datetime.strptime(data['frames'][i]['rfc460Timestamp'], \"%Y-%m-%dT%H:%M:%S.%fZ\")\n",
    "\n",
    "                check = str(tempTime.hour)+'-'+str(tempTime.minute)+'-'+str(tempTime.second)\n",
    "\n",
    "                if data['frames'][i]['gameState']=='finished':\n",
    "                    dead = 1\n",
    "                    if check in list(timeframe['Time']):\n",
    "                        timeframe.loc[index-1] = check,data['frames'][i]\n",
    "                        continue\n",
    "                \n",
    "                if  check not in list(timeframe['Time']):\n",
    "                    timeframe.loc[index] = check,data['frames'][i]\n",
    "                    index += 1\n",
    "                \n",
    "            if seconds == 0:\n",
    "                timeT = timeT - datetime.timedelta(minutes=1)\n",
    "                timeframe = pd.DataFrame(np.zeros((0,2)))\n",
    "                timeframe.columns = ['Time','frame']\n",
    "                seconds =1\n",
    "            \n",
    "        except Exception as e:\n",
    "            pass\n",
    "    gamedata[single_game[1]] = timeframe\n",
    "    print('finish')"
   ]
  },
  {
   "cell_type": "code",
   "execution_count": null,
   "metadata": {},
   "outputs": [],
   "source": [
    "for i in range(len(gamedata)):\n",
    "    print(gamedata[single[i][1]]['frame'].iloc[[0]].values[0]['blueTeam']['totalGold'])\n",
    "    print(gamedata[single[i][1]]['frame'].iloc[[-1]].values[0]['gameState'])"
   ]
  },
  {
   "cell_type": "markdown",
   "metadata": {},
   "source": [
    "# multidata 추출"
   ]
  },
  {
   "cell_type": "code",
   "execution_count": 43,
   "metadata": {},
   "outputs": [],
   "source": [
    "gamedata = {}"
   ]
  },
  {
   "cell_type": "code",
   "execution_count": 21,
   "metadata": {},
   "outputs": [],
   "source": [
    "multi = list(map(lambda x : [x[0][:-1]+'.00Z']+x[1:],multi))"
   ]
  },
  {
   "cell_type": "code",
   "execution_count": 34,
   "metadata": {},
   "outputs": [
    {
     "name": "stdout",
     "output_type": "stream",
     "text": [
      "finish\n",
      "finish\n",
      "finish\n",
      "finish\n",
      "finish\n",
      "finish\n",
      "finish\n",
      "finish\n",
      "finish\n",
      "finish\n",
      "finish\n",
      "finish\n",
      "finish\n",
      "finish\n",
      "finish\n",
      "finish\n",
      "finish\n",
      "finish\n",
      "finish\n",
      "finish\n",
      "finish\n",
      "finish\n",
      "finish\n",
      "finish\n",
      "finish\n",
      "finish\n",
      "finish\n",
      "finish\n",
      "finish\n",
      "finish\n",
      "finish\n",
      "finish\n",
      "finish\n",
      "finish\n",
      "finish\n",
      "finish\n",
      "finish\n",
      "finish\n",
      "finish\n",
      "finish\n",
      "finish\n",
      "finish\n",
      "finish\n"
     ]
    }
   ],
   "source": [
    "#get window\n",
    "import datetime\n",
    "header = {'x-api-key':key}\n",
    "\n",
    "\n",
    "\n",
    "for multi_game in multi:\n",
    "    \n",
    "    first = 0\n",
    "    for gameIndex in range(1,len(multi_game)):\n",
    "        timeframe = pd.DataFrame(np.zeros((0,2)))\n",
    "        timeframe.columns = ['Time','frame']\n",
    "\n",
    "        index = 0\n",
    "        seconds = 0\n",
    "        last = 0\n",
    "        dead = 0\n",
    "        while dead == 0 :\n",
    "\n",
    "            try:\n",
    "                if first == 0:\n",
    "                    startT = multi_game[0]\n",
    "                    timeT = datetime.datetime.strptime(startT, \"%Y-%m-%dT%H:%M:%S.%fZ\")\n",
    "                    timeT = timeT - datetime.timedelta(hours=1)\n",
    "                    first +=1\n",
    "                else:\n",
    "                    if seconds == 0 :\n",
    "                        timeT = timeT + datetime.timedelta(minutes=1)\n",
    "                    else:\n",
    "                        timeT = timeT + datetime.timedelta(seconds=10)\n",
    "                param = {'id':multi_game[gameIndex],'startingTime':str(timeT.strftime(\"%Y-%m-%dT%H:%M:%S.%fZ\"))}\n",
    "\n",
    "                leagues = 'https://feed.lolesports.com/livestats/v1/window/'+str(param['id'])\n",
    "                r = requests.get(leagues,headers = header,params = param)\n",
    "                data = r.json()\n",
    "                for i in range(len(data['frames'])):\n",
    "                    if len(data['frames'][i]['rfc460Timestamp']) == 20:\n",
    "                        data['frames'][i]['rfc460Timestamp'] = data['frames'][i]['rfc460Timestamp'][:-1]+'.00Z'\n",
    "\n",
    "                    tempTime = datetime.datetime.strptime(data['frames'][i]['rfc460Timestamp'], \"%Y-%m-%dT%H:%M:%S.%fZ\")\n",
    "\n",
    "                    check = str(tempTime.hour)+'-'+str(tempTime.minute)+'-'+str(tempTime.second)\n",
    "\n",
    "                    if data['frames'][i]['gameState']=='finished':\n",
    "                        second = 0\n",
    "                        dead = 1\n",
    "                        if check in list(timeframe['Time']):\n",
    "                            timeframe.loc[index-1] = check,data['frames'][i]\n",
    "                            continue\n",
    "\n",
    "                    if  check not in list(timeframe['Time']):\n",
    "                        timeframe.loc[index] = check,data['frames'][i]\n",
    "                        index += 1\n",
    "\n",
    "                if seconds == 0 and dead == 0:\n",
    "                    timeT = timeT - datetime.timedelta(minutes=1)\n",
    "                    timeframe = pd.DataFrame(np.zeros((0,2)))\n",
    "                    timeframe.columns = ['Time','frame']\n",
    "                    seconds =1\n",
    "\n",
    "            except Exception as e:\n",
    "                pass\n",
    "        gamedata[multi_game[gameIndex]] = timeframe\n",
    "        print('finish')"
   ]
  },
  {
   "cell_type": "code",
   "execution_count": 47,
   "metadata": {},
   "outputs": [
    {
     "name": "stdout",
     "output_type": "stream",
     "text": [
      "0\n",
      "finished\n",
      "0\n",
      "finished\n",
      "0\n",
      "finished\n",
      "0\n",
      "finished\n",
      "0\n",
      "finished\n",
      "0\n",
      "finished\n",
      "0\n",
      "finished\n",
      "0\n",
      "finished\n",
      "0\n",
      "finished\n",
      "0\n",
      "finished\n",
      "0\n",
      "finished\n",
      "0\n",
      "finished\n",
      "0\n",
      "finished\n",
      "0\n",
      "finished\n",
      "0\n",
      "finished\n",
      "0\n",
      "finished\n",
      "0\n",
      "finished\n",
      "0\n",
      "finished\n",
      "0\n",
      "finished\n",
      "0\n",
      "finished\n",
      "0\n",
      "finished\n",
      "0\n",
      "finished\n",
      "0\n",
      "finished\n",
      "0\n",
      "finished\n",
      "0\n",
      "finished\n",
      "0\n",
      "finished\n",
      "0\n",
      "finished\n",
      "0\n",
      "finished\n",
      "0\n",
      "finished\n",
      "0\n",
      "finished\n",
      "0\n",
      "finished\n",
      "0\n",
      "finished\n",
      "0\n",
      "finished\n",
      "0\n",
      "finished\n",
      "0\n",
      "finished\n",
      "0\n",
      "finished\n",
      "0\n",
      "finished\n",
      "0\n",
      "finished\n",
      "0\n",
      "finished\n",
      "0\n",
      "finished\n",
      "0\n",
      "finished\n",
      "0\n",
      "finished\n",
      "0\n",
      "finished\n"
     ]
    }
   ],
   "source": [
    "for i in range(len(multi)):\n",
    "    #print(multi[i])\n",
    "    for j in range(1,len(multi[i])):\n",
    "        print(imsidata[multi[i][j]]['frame'].iloc[[0]].values[0]['blueTeam']['totalGold'])\n",
    "        print(imsidata[multi[i][j]]['frame'].iloc[[-1]].values[0]['gameState'])"
   ]
  },
  {
   "cell_type": "code",
   "execution_count": 48,
   "metadata": {},
   "outputs": [],
   "source": [
    "import pickle\n",
    " \n",
    "## Save pickle 임시저장\n",
    "\n",
    "with open(\"C:/Users/Gangmin/Desktop/gangmin/capstone/lolDeveloperApi/multigame.pickle\",\"wb\") as fw:\n",
    "    pickle.dump(imsidata, fw)\n"
   ]
  },
  {
   "cell_type": "code",
   "execution_count": 2,
   "metadata": {},
   "outputs": [],
   "source": [
    "## Load pickle\n",
    "import pickle\n",
    "with open(\"C:/Users/Gangmin/Desktop/gangmin/capstone/lolDeveloperApi/multigame.pickle\",\"rb\") as fr:\n",
    "    imsidata = pickle.load(fr)"
   ]
  },
  {
   "cell_type": "code",
   "execution_count": null,
   "metadata": {},
   "outputs": [],
   "source": [
    "'''\n",
    "0~18(19개)\n",
    "19 빼먹음\n",
    "20~40(21개)\n",
    "\n",
    "\n",
    "'''"
   ]
  },
  {
   "cell_type": "code",
   "execution_count": null,
   "metadata": {},
   "outputs": [],
   "source": [
    "#2개 마저 수집하고 정확성 확인하기"
   ]
  },
  {
   "cell_type": "markdown",
   "metadata": {},
   "source": [
    "# gamelist train,test"
   ]
  },
  {
   "cell_type": "code",
   "execution_count": 247,
   "metadata": {},
   "outputs": [],
   "source": [
    "gamelist = []"
   ]
  },
  {
   "cell_type": "code",
   "execution_count": 254,
   "metadata": {
    "scrolled": false
   },
   "outputs": [
    {
     "name": "stdout",
     "output_type": "stream",
     "text": [
      "{'startTime': '2019-10-02T11:00:00Z', 'blockName': '플레이-인 그룹 스테이지', 'league': {'name': '월드 챔피언십'}, 'match': {'id': '102844212420310203', 'type': 'normal', 'teams': [{'name': 'Clutch Gaming', 'code': 'CLU', 'image': 'https://lolstatic-a.akamaihd.net/esports-assets/production/team/clutch-gaming-83a00582.png', 'result': {'gameWins': 0}}, {'name': 'Unicorns of Love', 'code': 'UOL', 'image': 'https://lolstatic-a.akamaihd.net/esports-assets/production/team/unicorns-of-love-8qvakeja.png', 'result': {'gameWins': 1}}], 'strategy': {'type': 'bestOf', 'count': 1}}, 'games': [{'id': '102844212430075086', 'vods': [{'parameter': 'J5R7PrKMBv8'}, {'parameter': 'e3Zi11S2IqE'}, {'parameter': 'U24z9YbJV10'}, {'parameter': 'N7HSF1yukk8'}]}]}\n"
     ]
    }
   ],
   "source": [
    "for i in data['data']['schedule']['events']:\n",
    "    print(i)\n",
    "    break\n",
    "    for j in i['games']:\n",
    "        if len(j['vods']) is not 0:\n",
    "            temp = []\n",
    "            temp.append(i['startTime']) \n",
    "            temp.append(i['match']['teams'][0]['code'])\n",
    "            temp.append(i['match']['teams'][1]['code'])\n",
    "            temp.append(\"_\"+str(j['id']))\n",
    "            gamelist.append(temp)"
   ]
  },
  {
   "cell_type": "code",
   "execution_count": 249,
   "metadata": {},
   "outputs": [],
   "source": [
    "#gamelist"
   ]
  },
  {
   "cell_type": "code",
   "execution_count": 250,
   "metadata": {},
   "outputs": [],
   "source": [
    "gamelist = pd.DataFrame(gamelist)"
   ]
  },
  {
   "cell_type": "code",
   "execution_count": 251,
   "metadata": {},
   "outputs": [],
   "source": [
    "gamelist.columns = ['Time','T1','T2','gameId']"
   ]
  },
  {
   "cell_type": "code",
   "execution_count": 252,
   "metadata": {},
   "outputs": [],
   "source": [
    "import numpy as np\n",
    "from sklearn.model_selection import train_test_split\n",
    "\n",
    "\n",
    "X_train, X_test = train_test_split(gamelist, test_size=0.3, random_state=123)\n"
   ]
  },
  {
   "cell_type": "code",
   "execution_count": 253,
   "metadata": {},
   "outputs": [],
   "source": [
    "X_train.to_csv(\"c:/users/gangmin/desktop/gangmin/capstone/lolDeveloperApi/trainlist.csv\")\n",
    "X_test.to_csv(\"c:/users/gangmin/desktop/gangmin/capstone/lolDeveloperApi/testlist.csv\")"
   ]
  },
  {
   "cell_type": "code",
   "execution_count": null,
   "metadata": {},
   "outputs": [],
   "source": []
  }
 ],
 "metadata": {
  "kernelspec": {
   "display_name": "Python 3",
   "language": "python",
   "name": "python3"
  },
  "language_info": {
   "codemirror_mode": {
    "name": "ipython",
    "version": 3
   },
   "file_extension": ".py",
   "mimetype": "text/x-python",
   "name": "python",
   "nbconvert_exporter": "python",
   "pygments_lexer": "ipython3",
   "version": "3.6.9"
  }
 },
 "nbformat": 4,
 "nbformat_minor": 4
}
