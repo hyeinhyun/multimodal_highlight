{
 "cells": [
  {
   "cell_type": "code",
   "execution_count": 7,
   "metadata": {},
   "outputs": [],
   "source": [
    "from keras.models import Sequential\n",
    "from keras.layers import Dense,Dropout,Activation\n",
    "from keras.optimizers import adam\n",
    "import pandas as pd\n",
    "import numpy as np"
   ]
  },
  {
   "cell_type": "code",
   "execution_count": 8,
   "metadata": {},
   "outputs": [
    {
     "name": "stdout",
     "output_type": "stream",
     "text": [
      "       Unnamed: 0      gold     tower      kill  blue_result  red_result\n",
      "0               0  0.000114  0.000073  0.000098            0           1\n",
      "1               1  0.000057  0.000037  0.000056            0           1\n",
      "2               2  0.000097  0.000061  0.000119            0           1\n",
      "3               3  0.000168  0.000134  0.000133            1           0\n",
      "4               4  0.000093  0.000122  0.000105            1           0\n",
      "...           ...       ...       ...       ...          ...         ...\n",
      "10805       10805  0.000077  0.000037  0.000035            0           1\n",
      "10806       10806  0.000087  0.000122  0.000091            1           0\n",
      "10807       10807  0.000092  0.000097  0.000160            1           0\n",
      "10808       10808  0.000089  0.000122  0.000098            1           0\n",
      "10809       10809  0.000069  0.000122  0.000133            1           0\n",
      "\n",
      "[10810 rows x 6 columns]\n"
     ]
    }
   ],
   "source": [
    "data = pd.read_csv('/home/ubuntu/gangmin/tsvt/video/win_loss_classifier/win_loss_variables.csv')\n",
    "print(data)"
   ]
  },
  {
   "cell_type": "code",
   "execution_count": 9,
   "metadata": {},
   "outputs": [],
   "source": [
    "data = data.loc[:,['gold','tower','kill','blue_result','red_result']]"
   ]
  },
  {
   "cell_type": "code",
   "execution_count": 10,
   "metadata": {},
   "outputs": [],
   "source": [
    "X = data.loc[:,['gold','tower','kill']]\n",
    "y = data.loc[:,['blue_result','red_result']]"
   ]
  },
  {
   "cell_type": "code",
   "execution_count": 12,
   "metadata": {},
   "outputs": [
    {
     "name": "stdout",
     "output_type": "stream",
     "text": [
      "StratifiedShuffleSplit(n_splits=100, random_state=10, test_size=0.3,\n",
      "            train_size=None)\n"
     ]
    }
   ],
   "source": [
    "#stratified shuffle spit\n",
    "\n",
    "from sklearn.model_selection import StratifiedShuffleSplit\n",
    "seed = 10\n",
    "shufflesplit = StratifiedShuffleSplit(n_splits=100,random_state=seed,test_size=0.3)\n",
    "print(shufflesplit)\n",
    "\n",
    "for train_index ,test_index in shufflesplit.split(X,y):\n",
    "    train_x = X.loc[train_index]\n",
    "    test_x = X.loc[test_index]\n",
    "    train_y = y.loc[train_index]\n",
    "    test_y = y.loc[test_index]"
   ]
  },
  {
   "cell_type": "code",
   "execution_count": 14,
   "metadata": {},
   "outputs": [],
   "source": [
    "from keras.models import load_model\n",
    "model_best = load_model('/home/ubuntu/gangmin/tsvt/video/win_loss_classifier/models/957-0.3305.hdf5')"
   ]
  },
  {
   "cell_type": "code",
   "execution_count": 15,
   "metadata": {},
   "outputs": [],
   "source": [
    "y_predict = model_best.predict(test_x)"
   ]
  },
  {
   "cell_type": "code",
   "execution_count": 16,
   "metadata": {},
   "outputs": [
    {
     "data": {
      "text/plain": [
       "array([[0.3852346 , 0.12534273],\n",
       "       [0.8856931 , 0.03640825],\n",
       "       [0.6878282 , 0.06854272],\n",
       "       ...,\n",
       "       [0.6308419 , 0.07766026],\n",
       "       [0.85531   , 0.04178939],\n",
       "       [0.14184092, 0.22412091]], dtype=float32)"
      ]
     },
     "execution_count": 16,
     "metadata": {},
     "output_type": "execute_result"
    }
   ],
   "source": [
    "y_predict"
   ]
  },
  {
   "cell_type": "code",
   "execution_count": 19,
   "metadata": {},
   "outputs": [],
   "source": [
    "labels = []\n",
    "for i in y_predict:\n",
    "    if i[0] > i[1]:\n",
    "        labels.append(1)\n",
    "    else:\n",
    "        labels.append(0)"
   ]
  },
  {
   "cell_type": "code",
   "execution_count": 26,
   "metadata": {},
   "outputs": [],
   "source": [
    "frames = list(test_y['blue_result'])"
   ]
  },
  {
   "cell_type": "markdown",
   "metadata": {},
   "source": [
    "# evaluation"
   ]
  },
  {
   "cell_type": "code",
   "execution_count": 42,
   "metadata": {},
   "outputs": [
    {
     "name": "stdout",
     "output_type": "stream",
     "text": [
      "precision : 0.9954389965792474, recall : 0.9223454833597464, f1 : 0.9574993145050726, accuracy : 0.952204748689485\n"
     ]
    }
   ],
   "source": [
    "average = [0,0,0,0,0]\n",
    "TP=0\n",
    "FP=0\n",
    "TN=0\n",
    "FN=0\n",
    "for key in range(len(frames)):\n",
    "    if frames[key] == 1 and labels[key] ==1:\n",
    "        TP+=1\n",
    "    if frames[key] == 1 and labels[key] ==0:\n",
    "        FP+=1\n",
    "    if frames[key] == 0 and labels[key] ==0:\n",
    "        TN+=1\n",
    "    if frames[key] == 0 and labels[key] ==1:\n",
    "        FN+=1\n",
    "    \n",
    "precision = TP/(TP+FP)\n",
    "recall = TP/(TP+FN)\n",
    "accuracy = (TP+TN) / (TP+FN+FP+TN)\n",
    "\n",
    "\n",
    "\n",
    "f1 = (2*precision*recall / (precision + recall))\n",
    "\n",
    "print('precision : {}, recall : {}, f1 : {}, accuracy : {}'.format(precision,recall,f1,accuracy))\n"
   ]
  },
  {
   "cell_type": "code",
   "execution_count": null,
   "metadata": {},
   "outputs": [],
   "source": []
  }
 ],
 "metadata": {
  "kernelspec": {
   "display_name": "Python 3",
   "language": "python",
   "name": "python3"
  },
  "language_info": {
   "codemirror_mode": {
    "name": "ipython",
    "version": 3
   },
   "file_extension": ".py",
   "mimetype": "text/x-python",
   "name": "python",
   "nbconvert_exporter": "python",
   "pygments_lexer": "ipython3",
   "version": "3.6.9"
  }
 },
 "nbformat": 4,
 "nbformat_minor": 2
}
